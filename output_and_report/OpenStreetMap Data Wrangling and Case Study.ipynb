{
 "cells": [
  {
   "cell_type": "markdown",
   "metadata": {},
   "source": [
    "# OpenStreetMap Data Wrangling and Case Study\n",
    "***\n",
    "***"
   ]
  },
  {
   "cell_type": "markdown",
   "metadata": {},
   "source": [
    "## Project\n",
    "The goal of this project was to clean fields of interest using Python and explore the OpenStreetMap data for a specific geographical area using SQL."
   ]
  },
  {
   "cell_type": "markdown",
   "metadata": {},
   "source": [
    "## Map Area\n",
    "The data covers all of lower Manhattan (south of about 40th Street) and parts of Brooklyn including portions of DUMBO, Vinegar Hill, Navy Yard, and Williamsburg.  The area is between 40.7562 and 40.6976 latitude and -74.0199 and -73.9661 longitude."
   ]
  },
  {
   "cell_type": "markdown",
   "metadata": {
    "collapsed": true
   },
   "source": [
    "<img src = \"map_area.png\">"
   ]
  },
  {
   "cell_type": "markdown",
   "metadata": {},
   "source": [
    "## Data Overview\n",
    "\n",
    "### File Sizes\n",
    "```\n",
    "lower_manhattan.osm ..... 59.6 MB\n",
    "osm.db .................. * MB\n",
    "nodes.csv ............... * MB\n",
    "nodes_tags.csv .......... * MB\n",
    "ways.csv ................ * MB\n",
    "ways_tags.csv ........... * MB\n",
    "ways_nodes.cv ........... * MB\n",
    "relations.csv ........... * MB\n",
    "relations_tags.csv ...... * MB\n",
    "relations_members.csv ... * MB\n",
    "```"
   ]
  },
  {
   "cell_type": "code",
   "execution_count": 2,
   "metadata": {
    "collapsed": true
   },
   "outputs": [],
   "source": [
    "%load_ext sql\n",
    "%sql sqlite:///osm.db\n",
    "%matplotlib inline"
   ]
  },
  {
   "cell_type": "markdown",
   "metadata": {},
   "source": [
    "There are three types of entities in the map: nodes, ways, and relations.  In addition, nodes have tags, ways have tags and nodes, and relations have members and tags.  Each of these are represented in a separate table.  The vast majority of the interesting data lies within the tags."
   ]
  },
  {
   "cell_type": "code",
   "execution_count": 127,
   "metadata": {},
   "outputs": [
    {
     "name": "stdout",
     "output_type": "stream",
     "text": [
      "Done.\n"
     ]
    },
    {
     "data": {
      "text/html": [
       "<table>\n",
       "    <tr>\n",
       "        <th>name</th>\n",
       "    </tr>\n",
       "    <tr>\n",
       "        <td>Node</td>\n",
       "    </tr>\n",
       "    <tr>\n",
       "        <td>NodeTag</td>\n",
       "    </tr>\n",
       "    <tr>\n",
       "        <td>Relation</td>\n",
       "    </tr>\n",
       "    <tr>\n",
       "        <td>RelationMember</td>\n",
       "    </tr>\n",
       "    <tr>\n",
       "        <td>RelationTag</td>\n",
       "    </tr>\n",
       "    <tr>\n",
       "        <td>Way</td>\n",
       "    </tr>\n",
       "    <tr>\n",
       "        <td>WayNode</td>\n",
       "    </tr>\n",
       "    <tr>\n",
       "        <td>WayTag</td>\n",
       "    </tr>\n",
       "</table>"
      ],
      "text/plain": [
       "[('Node',),\n",
       " ('NodeTag',),\n",
       " ('Relation',),\n",
       " ('RelationMember',),\n",
       " ('RelationTag',),\n",
       " ('Way',),\n",
       " ('WayNode',),\n",
       " ('WayTag',)]"
      ]
     },
     "execution_count": 127,
     "metadata": {},
     "output_type": "execute_result"
    }
   ],
   "source": [
    "%%sql\n",
    "SELECT name\n",
    "FROM sqlite_master\n",
    "WHERE type='table'\n",
    "ORDER BY name;"
   ]
  },
  {
   "cell_type": "markdown",
   "metadata": {},
   "source": [
    "### Number of nodes"
   ]
  },
  {
   "cell_type": "code",
   "execution_count": 128,
   "metadata": {},
   "outputs": [
    {
     "name": "stdout",
     "output_type": "stream",
     "text": [
      "Done.\n"
     ]
    },
    {
     "data": {
      "text/html": [
       "<table>\n",
       "    <tr>\n",
       "        <th>Count</th>\n",
       "    </tr>\n",
       "    <tr>\n",
       "        <td>196006</td>\n",
       "    </tr>\n",
       "</table>"
      ],
      "text/plain": [
       "[(196006,)]"
      ]
     },
     "execution_count": 128,
     "metadata": {},
     "output_type": "execute_result"
    }
   ],
   "source": [
    "%%sql\n",
    "SELECT COUNT(*) AS Count\n",
    "FROM Node"
   ]
  },
  {
   "cell_type": "markdown",
   "metadata": {},
   "source": [
    "### Number of ways"
   ]
  },
  {
   "cell_type": "code",
   "execution_count": 129,
   "metadata": {},
   "outputs": [
    {
     "name": "stdout",
     "output_type": "stream",
     "text": [
      "Done.\n"
     ]
    },
    {
     "data": {
      "text/html": [
       "<table>\n",
       "    <tr>\n",
       "        <th>Count</th>\n",
       "    </tr>\n",
       "    <tr>\n",
       "        <td>35165</td>\n",
       "    </tr>\n",
       "</table>"
      ],
      "text/plain": [
       "[(35165,)]"
      ]
     },
     "execution_count": 129,
     "metadata": {},
     "output_type": "execute_result"
    }
   ],
   "source": [
    "%%sql\n",
    "SELECT COUNT(*) AS Count\n",
    "FROM Way"
   ]
  },
  {
   "cell_type": "markdown",
   "metadata": {},
   "source": [
    "### Number of relations"
   ]
  },
  {
   "cell_type": "code",
   "execution_count": 130,
   "metadata": {},
   "outputs": [
    {
     "name": "stdout",
     "output_type": "stream",
     "text": [
      "Done.\n"
     ]
    },
    {
     "data": {
      "text/html": [
       "<table>\n",
       "    <tr>\n",
       "        <th>Count</th>\n",
       "    </tr>\n",
       "    <tr>\n",
       "        <td>985</td>\n",
       "    </tr>\n",
       "</table>"
      ],
      "text/plain": [
       "[(985,)]"
      ]
     },
     "execution_count": 130,
     "metadata": {},
     "output_type": "execute_result"
    }
   ],
   "source": [
    "%%sql\n",
    "SELECT COUNT(*) AS Count\n",
    "FROM Relation"
   ]
  },
  {
   "cell_type": "markdown",
   "metadata": {},
   "source": [
    "### Number of tags"
   ]
  },
  {
   "cell_type": "code",
   "execution_count": 142,
   "metadata": {},
   "outputs": [
    {
     "name": "stdout",
     "output_type": "stream",
     "text": [
      "Done.\n",
      "Done.\n"
     ]
    },
    {
     "data": {
      "text/html": [
       "<table>\n",
       "    <tr>\n",
       "        <th>Count</th>\n",
       "    </tr>\n",
       "    <tr>\n",
       "        <td>294272</td>\n",
       "    </tr>\n",
       "</table>"
      ],
      "text/plain": [
       "[(294272,)]"
      ]
     },
     "execution_count": 142,
     "metadata": {},
     "output_type": "execute_result"
    }
   ],
   "source": [
    "%%sql\n",
    "-- Will use this view for most of the queries\n",
    "CREATE VIEW tags AS\n",
    "SELECT * FROM NodeTag \n",
    "UNION ALL\n",
    "SELECT * FROM WayTag\n",
    "UNION ALL\n",
    "SELECT * FROM RelationTag;\n",
    "\n",
    "-- Number of tags\n",
    "SELECT COUNT(*) AS Count\n",
    "FROM tags;"
   ]
  },
  {
   "cell_type": "code",
   "execution_count": 300,
   "metadata": {
    "scrolled": false
   },
   "outputs": [
    {
     "name": "stdout",
     "output_type": "stream",
     "text": [
      "Done.\n"
     ]
    },
    {
     "data": {
      "text/html": [
       "<table>\n",
       "    <tr>\n",
       "        <th>key</th>\n",
       "        <th>Count</th>\n",
       "    </tr>\n",
       "    <tr>\n",
       "        <td>height</td>\n",
       "        <td>26292</td>\n",
       "    </tr>\n",
       "    <tr>\n",
       "        <td>addr:street</td>\n",
       "        <td>25938</td>\n",
       "    </tr>\n",
       "    <tr>\n",
       "        <td>addr:housenumber</td>\n",
       "        <td>25933</td>\n",
       "    </tr>\n",
       "    <tr>\n",
       "        <td>addr:postcode</td>\n",
       "        <td>25321</td>\n",
       "    </tr>\n",
       "    <tr>\n",
       "        <td>building</td>\n",
       "        <td>19456</td>\n",
       "    </tr>\n",
       "    <tr>\n",
       "        <td>nycdoitt:bin</td>\n",
       "        <td>19092</td>\n",
       "    </tr>\n",
       "    <tr>\n",
       "        <td>name</td>\n",
       "        <td>11677</td>\n",
       "    </tr>\n",
       "    <tr>\n",
       "        <td>highway</td>\n",
       "        <td>8971</td>\n",
       "    </tr>\n",
       "    <tr>\n",
       "        <td>roof:shape</td>\n",
       "        <td>8425</td>\n",
       "    </tr>\n",
       "    <tr>\n",
       "        <td>building:colour</td>\n",
       "        <td>8351</td>\n",
       "    </tr>\n",
       "    <tr>\n",
       "        <td>roof:material</td>\n",
       "        <td>7863</td>\n",
       "    </tr>\n",
       "    <tr>\n",
       "        <td>building:part</td>\n",
       "        <td>7687</td>\n",
       "    </tr>\n",
       "    <tr>\n",
       "        <td>amenity</td>\n",
       "        <td>5776</td>\n",
       "    </tr>\n",
       "    <tr>\n",
       "        <td>building:material</td>\n",
       "        <td>4516</td>\n",
       "    </tr>\n",
       "    <tr>\n",
       "        <td>roof:colour</td>\n",
       "        <td>3727</td>\n",
       "    </tr>\n",
       "    <tr>\n",
       "        <td>building:levels</td>\n",
       "        <td>3452</td>\n",
       "    </tr>\n",
       "    <tr>\n",
       "        <td>addr:city</td>\n",
       "        <td>3393</td>\n",
       "    </tr>\n",
       "    <tr>\n",
       "        <td>tiger:county</td>\n",
       "        <td>2470</td>\n",
       "    </tr>\n",
       "    <tr>\n",
       "        <td>tiger:cfcc</td>\n",
       "        <td>2436</td>\n",
       "    </tr>\n",
       "    <tr>\n",
       "        <td>oneway</td>\n",
       "        <td>2409</td>\n",
       "    </tr>\n",
       "</table>"
      ],
      "text/plain": [
       "[('height', 26292),\n",
       " ('addr:street', 25938),\n",
       " ('addr:housenumber', 25933),\n",
       " ('addr:postcode', 25321),\n",
       " ('building', 19456),\n",
       " ('nycdoitt:bin', 19092),\n",
       " ('name', 11677),\n",
       " ('highway', 8971),\n",
       " ('roof:shape', 8425),\n",
       " ('building:colour', 8351),\n",
       " ('roof:material', 7863),\n",
       " ('building:part', 7687),\n",
       " ('amenity', 5776),\n",
       " ('building:material', 4516),\n",
       " ('roof:colour', 3727),\n",
       " ('building:levels', 3452),\n",
       " ('addr:city', 3393),\n",
       " ('tiger:county', 2470),\n",
       " ('tiger:cfcc', 2436),\n",
       " ('oneway', 2409)]"
      ]
     },
     "execution_count": 300,
     "metadata": {},
     "output_type": "execute_result"
    }
   ],
   "source": [
    "%%sql\n",
    "-- Most popular tags\n",
    "SELECT key, COUNT(*) AS Count\n",
    "FROM tags\n",
    "GROUP BY key\n",
    "ORDER BY Count DESC\n",
    "LIMIT 20;"
   ]
  },
  {
   "cell_type": "markdown",
   "metadata": {},
   "source": [
    "### Users"
   ]
  },
  {
   "cell_type": "code",
   "execution_count": 140,
   "metadata": {},
   "outputs": [
    {
     "name": "stdout",
     "output_type": "stream",
     "text": [
      "Done.\n",
      "Done.\n"
     ]
    },
    {
     "data": {
      "text/html": [
       "<table>\n",
       "    <tr>\n",
       "        <th>Count</th>\n",
       "    </tr>\n",
       "    <tr>\n",
       "        <td>1209</td>\n",
       "    </tr>\n",
       "</table>"
      ],
      "text/plain": [
       "[(1209,)]"
      ]
     },
     "execution_count": 140,
     "metadata": {},
     "output_type": "execute_result"
    }
   ],
   "source": [
    "%%sql\n",
    "CREATE VIEW all_entities AS\n",
    "SELECT id, user, uid, version, changeset, timestamp FROM Node \n",
    "UNION ALL\n",
    "SELECT * FROM Way\n",
    "UNION ALL\n",
    "SELECT * FROM Relation;\n",
    "\n",
    "-- Number of unique users\n",
    "SELECT COUNT(DISTINCT user) AS Count\n",
    "FROM all_entities\n",
    "ORDER BY Count DESC;"
   ]
  },
  {
   "cell_type": "code",
   "execution_count": 143,
   "metadata": {},
   "outputs": [
    {
     "name": "stdout",
     "output_type": "stream",
     "text": [
      "Done.\n"
     ]
    },
    {
     "data": {
      "text/html": [
       "<table>\n",
       "    <tr>\n",
       "        <th>user</th>\n",
       "        <th>Count</th>\n",
       "    </tr>\n",
       "    <tr>\n",
       "        <td>lxbarth_nycbuildings</td>\n",
       "        <td>63936</td>\n",
       "    </tr>\n",
       "    <tr>\n",
       "        <td>Rub21_nycbuildings</td>\n",
       "        <td>61233</td>\n",
       "    </tr>\n",
       "    <tr>\n",
       "        <td>robgeb</td>\n",
       "        <td>45310</td>\n",
       "    </tr>\n",
       "    <tr>\n",
       "        <td>ALE!</td>\n",
       "        <td>9906</td>\n",
       "    </tr>\n",
       "    <tr>\n",
       "        <td>celosia_nycbuildings</td>\n",
       "        <td>3494</td>\n",
       "    </tr>\n",
       "    <tr>\n",
       "        <td>tre1994</td>\n",
       "        <td>2628</td>\n",
       "    </tr>\n",
       "    <tr>\n",
       "        <td>wambag</td>\n",
       "        <td>2346</td>\n",
       "    </tr>\n",
       "    <tr>\n",
       "        <td>zingbot_nycbuildings</td>\n",
       "        <td>2277</td>\n",
       "    </tr>\n",
       "    <tr>\n",
       "        <td>cityracks</td>\n",
       "        <td>1798</td>\n",
       "    </tr>\n",
       "    <tr>\n",
       "        <td>aaron_nycbuildings</td>\n",
       "        <td>1775</td>\n",
       "    </tr>\n",
       "</table>"
      ],
      "text/plain": [
       "[('lxbarth_nycbuildings', 63936),\n",
       " ('Rub21_nycbuildings', 61233),\n",
       " ('robgeb', 45310),\n",
       " ('ALE!', 9906),\n",
       " ('celosia_nycbuildings', 3494),\n",
       " ('tre1994', 2628),\n",
       " ('wambag', 2346),\n",
       " ('zingbot_nycbuildings', 2277),\n",
       " ('cityracks', 1798),\n",
       " ('aaron_nycbuildings', 1775)]"
      ]
     },
     "execution_count": 143,
     "metadata": {},
     "output_type": "execute_result"
    }
   ],
   "source": [
    "%%sql\n",
    "-- Top contributing users\n",
    "SELECT user, COUNT(user) AS Count\n",
    "FROM all_entities\n",
    "GROUP BY user\n",
    "ORDER BY Count DESC\n",
    "LIMIT 10;"
   ]
  },
  {
   "cell_type": "code",
   "execution_count": 146,
   "metadata": {},
   "outputs": [
    {
     "name": "stdout",
     "output_type": "stream",
     "text": [
      "Done.\n"
     ]
    },
    {
     "data": {
      "text/html": [
       "<table>\n",
       "    <tr>\n",
       "        <th>COUNT(*)</th>\n",
       "    </tr>\n",
       "    <tr>\n",
       "        <td>481</td>\n",
       "    </tr>\n",
       "</table>"
      ],
      "text/plain": [
       "[(481,)]"
      ]
     },
     "execution_count": 146,
     "metadata": {},
     "output_type": "execute_result"
    }
   ],
   "source": [
    "%%sql\n",
    "SELECT COUNT(*)\n",
    "FROM (SELECT COUNT(user) AS Count\n",
    "      FROM all_entities\n",
    "      GROUP BY user\n",
    "      HAVING COUNT=1\n",
    "      ORDER BY Count DESC) counts"
   ]
  },
  {
   "cell_type": "markdown",
   "metadata": {},
   "source": [
    "481 of the 1209 users that contributed to the map have only made one post."
   ]
  },
  {
   "cell_type": "code",
   "execution_count": 349,
   "metadata": {},
   "outputs": [
    {
     "name": "stdout",
     "output_type": "stream",
     "text": [
      "Done.\n"
     ]
    },
    {
     "data": {
      "text/html": [
       "<table>\n",
       "    <tr>\n",
       "        <th>key</th>\n",
       "        <th>Count</th>\n",
       "    </tr>\n",
       "    <tr>\n",
       "        <td>addr:housenumber</td>\n",
       "        <td>8513</td>\n",
       "    </tr>\n",
       "    <tr>\n",
       "        <td>addr:postcode</td>\n",
       "        <td>8502</td>\n",
       "    </tr>\n",
       "    <tr>\n",
       "        <td>addr:street</td>\n",
       "        <td>8498</td>\n",
       "    </tr>\n",
       "    <tr>\n",
       "        <td>building</td>\n",
       "        <td>6858</td>\n",
       "    </tr>\n",
       "    <tr>\n",
       "        <td>height</td>\n",
       "        <td>6851</td>\n",
       "    </tr>\n",
       "    <tr>\n",
       "        <td>nycdoitt:bin</td>\n",
       "        <td>6841</td>\n",
       "    </tr>\n",
       "    <tr>\n",
       "        <td>name</td>\n",
       "        <td>101</td>\n",
       "    </tr>\n",
       "    <tr>\n",
       "        <td>type</td>\n",
       "        <td>69</td>\n",
       "    </tr>\n",
       "    <tr>\n",
       "        <td>amenity</td>\n",
       "        <td>60</td>\n",
       "    </tr>\n",
       "    <tr>\n",
       "        <td>ele</td>\n",
       "        <td>44</td>\n",
       "    </tr>\n",
       "</table>"
      ],
      "text/plain": [
       "[('addr:housenumber', 8513),\n",
       " ('addr:postcode', 8502),\n",
       " ('addr:street', 8498),\n",
       " ('building', 6858),\n",
       " ('height', 6851),\n",
       " ('nycdoitt:bin', 6841),\n",
       " ('name', 101),\n",
       " ('type', 69),\n",
       " ('amenity', 60),\n",
       " ('ele', 44)]"
      ]
     },
     "execution_count": 349,
     "metadata": {},
     "output_type": "execute_result"
    }
   ],
   "source": [
    "%%sql\n",
    "-- The tags that the most active user contributed to\n",
    "SELECT key, COUNT(*) AS Count\n",
    "FROM all_entities a INNER JOIN tags t\n",
    "ON a.id = t.id\n",
    "WHERE a.user = (SELECT user\n",
    "                FROM all_entities\n",
    "                GROUP BY user\n",
    "                ORDER BY COUNT(user) DESC\n",
    "                LIMIT 1)\n",
    "GROUP BY key\n",
    "ORDER BY Count DESC\n",
    "LIMIT 10;"
   ]
  },
  {
   "cell_type": "markdown",
   "metadata": {},
   "source": [
    "### Timing"
   ]
  },
  {
   "cell_type": "code",
   "execution_count": 304,
   "metadata": {},
   "outputs": [
    {
     "name": "stdout",
     "output_type": "stream",
     "text": [
      "Done.\n"
     ]
    },
    {
     "data": {
      "text/html": [
       "<div>\n",
       "<style>\n",
       "    .dataframe thead tr:only-child th {\n",
       "        text-align: right;\n",
       "    }\n",
       "\n",
       "    .dataframe thead th {\n",
       "        text-align: left;\n",
       "    }\n",
       "\n",
       "    .dataframe tbody tr th {\n",
       "        vertical-align: top;\n",
       "    }\n",
       "</style>\n",
       "<table border=\"1\" class=\"dataframe\">\n",
       "  <thead>\n",
       "    <tr style=\"text-align: right;\">\n",
       "      <th></th>\n",
       "      <th>Date</th>\n",
       "      <th>Count</th>\n",
       "    </tr>\n",
       "  </thead>\n",
       "  <tbody>\n",
       "    <tr>\n",
       "      <th>0</th>\n",
       "      <td>2013-12</td>\n",
       "      <td>40539</td>\n",
       "    </tr>\n",
       "    <tr>\n",
       "      <th>1</th>\n",
       "      <td>2014-03</td>\n",
       "      <td>37268</td>\n",
       "    </tr>\n",
       "    <tr>\n",
       "      <th>2</th>\n",
       "      <td>2013-11</td>\n",
       "      <td>29312</td>\n",
       "    </tr>\n",
       "    <tr>\n",
       "      <th>3</th>\n",
       "      <td>2014-04</td>\n",
       "      <td>22794</td>\n",
       "    </tr>\n",
       "    <tr>\n",
       "      <th>4</th>\n",
       "      <td>2014-06</td>\n",
       "      <td>7853</td>\n",
       "    </tr>\n",
       "  </tbody>\n",
       "</table>\n",
       "</div>"
      ],
      "text/plain": [
       "      Date  Count\n",
       "0  2013-12  40539\n",
       "1  2014-03  37268\n",
       "2  2013-11  29312\n",
       "3  2014-04  22794\n",
       "4  2014-06   7853"
      ]
     },
     "execution_count": 304,
     "metadata": {},
     "output_type": "execute_result"
    }
   ],
   "source": [
    "result = %sql SELECT strftime('%Y-%m', timestamp) AS Date, COUNT(strftime('%Y-%m', timestamp)) AS Count FROM all_entities GROUP BY Date ORDER BY Count DESC\n",
    "df = result.DataFrame()\n",
    "df.head()"
   ]
  },
  {
   "cell_type": "code",
   "execution_count": 233,
   "metadata": {
    "scrolled": false
   },
   "outputs": [
    {
     "data": {
      "image/png": "[encoded data removed]",
      "text/plain": [
       "<matplotlib.figure.Figure at 0x11b94f8d0>"
      ]
     },
     "metadata": {},
     "output_type": "display_data"
    }
   ],
   "source": [
    "ax = df.plot(x='Date', y='Count', title=t, legend=False, figsize=(9,5));\n",
    "ax.set_xlabel('');"
   ]
  },
  {
   "cell_type": "markdown",
   "metadata": {},
   "source": [
    "There are massive spikes in activity in November 2013, December 2013, and March 2014. \n",
    "Even after these spikes, activity is less consistent and usually higher than the number of posts before Ocotber 2013."
   ]
  },
  {
   "cell_type": "markdown",
   "metadata": {},
   "source": [
    "## Clean Tag Fields\n",
    "Investigated key fields that were found to be clean:\n",
    "* addr:district\n",
    "* addr:door\n",
    "* addr:interpolation\n",
    "* addr:suburb\n",
    "* addr:suite\n",
    "* building:colour\n",
    "* delivery\n",
    "* maxspeed\n",
    "* oneway\n",
    "* roof:colour\n",
    "* roof:shape\n",
    "\n",
    "The values for these keys were found to belong to the list of acceptable values as defined by the OSM Wiki."
   ]
  },
  {
   "cell_type": "markdown",
   "metadata": {},
   "source": [
    "### Building Color"
   ]
  },
  {
   "cell_type": "code",
   "execution_count": 287,
   "metadata": {},
   "outputs": [
    {
     "name": "stdout",
     "output_type": "stream",
     "text": [
      "Done.\n"
     ]
    },
    {
     "data": {
      "image/png": "[encoded data removed]",
      "text/plain": [
       "<matplotlib.figure.Figure at 0x120395828>"
      ]
     },
     "metadata": {},
     "output_type": "display_data"
    }
   ],
   "source": [
    "result = %sql SELECT value AS 'Building Color', COUNT(*) AS Count FROM tags WHERE key='building:colour' GROUP BY value ORDER BY Count DESC LIMIT 10;\n",
    "df = result.DataFrame()\n",
    "colors = df['Building Color'].tolist()\n",
    "\n",
    "fig = plt.figure(figsize=[1, 5])\n",
    "ax = fig.add_axes([0, 0, 1, 1])\n",
    "\n",
    "for n, c in enumerate(colors):\n",
    "    r1 = mpatch.Rectangle((0, n), 2, 1, color=c)\n",
    "    txt = ax.text(2, n+.5, '  ' + c, va='center', fontsize=12)\n",
    "    ax.add_patch(r1)\n",
    "\n",
    "ax.text(2, n + 1.5, 'Building Color', ha='center', va='center', fontsize=14)\n",
    "ax.set_xlim(0, 2)\n",
    "ax.set_ylim(0, n + 2)\n",
    "ax.axis('off');"
   ]
  },
  {
   "cell_type": "markdown",
   "metadata": {},
   "source": [
    "### Roof Color"
   ]
  },
  {
   "cell_type": "code",
   "execution_count": 289,
   "metadata": {},
   "outputs": [
    {
     "name": "stdout",
     "output_type": "stream",
     "text": [
      "Done.\n"
     ]
    },
    {
     "data": {
      "image/png": "[encoded data removed]",
      "text/plain": [
       "<matplotlib.figure.Figure at 0x1204600f0>"
      ]
     },
     "metadata": {},
     "output_type": "display_data"
    }
   ],
   "source": [
    "result = %sql SELECT value AS 'Roof Color', COUNT(*) AS Count FROM tags WHERE key='roof:colour' GROUP BY value ORDER BY Count DESC LIMIT 10;\n",
    "df = result.DataFrame()\n",
    "colors = df['Roof Color'].tolist()\n",
    "\n",
    "fig = plt.figure(figsize=[1, 5])\n",
    "ax = fig.add_axes([0, 0, 1, 1])\n",
    "\n",
    "for n, c in enumerate(colors):\n",
    "    r1 = mpatch.Rectangle((0, n), 2, 1, color=c)\n",
    "    txt = ax.text(2, n+.5, '  ' + c, va='center', fontsize=12)\n",
    "    ax.add_patch(r1)\n",
    "\n",
    "ax.text(2, n + 1.5, 'Roof Color', ha='center', va='center', fontsize=14)\n",
    "ax.set_xlim(0, 2)\n",
    "ax.set_ylim(0, n + 2)\n",
    "ax.axis('off');"
   ]
  },
  {
   "cell_type": "markdown",
   "metadata": {},
   "source": [
    "Unsuprisingly, the most popular building colors are generally lighter and less grey-toned than the most popular roof colors."
   ]
  },
  {
   "cell_type": "markdown",
   "metadata": {},
   "source": [
    "### Delivery"
   ]
  },
  {
   "cell_type": "code",
   "execution_count": 234,
   "metadata": {},
   "outputs": [
    {
     "name": "stdout",
     "output_type": "stream",
     "text": [
      "Done.\n"
     ]
    },
    {
     "data": {
      "text/html": [
       "<table>\n",
       "    <tr>\n",
       "        <th>Delivery</th>\n",
       "        <th>Count</th>\n",
       "    </tr>\n",
       "    <tr>\n",
       "        <td>yes</td>\n",
       "        <td>48</td>\n",
       "    </tr>\n",
       "    <tr>\n",
       "        <td>no</td>\n",
       "        <td>37</td>\n",
       "    </tr>\n",
       "</table>"
      ],
      "text/plain": [
       "[('yes', 48), ('no', 37)]"
      ]
     },
     "execution_count": 234,
     "metadata": {},
     "output_type": "execute_result"
    }
   ],
   "source": [
    "%%sql\n",
    "SELECT value AS 'Delivery', COUNT(*) AS Count \n",
    "FROM tags\n",
    "WHERE key='delivery'\n",
    "GROUP BY value\n",
    "ORDER BY Count DESC"
   ]
  },
  {
   "cell_type": "markdown",
   "metadata": {},
   "source": [
    "### Speed Limit"
   ]
  },
  {
   "cell_type": "code",
   "execution_count": 292,
   "metadata": {},
   "outputs": [
    {
     "name": "stdout",
     "output_type": "stream",
     "text": [
      "Done.\n"
     ]
    },
    {
     "data": {
      "text/html": [
       "<table>\n",
       "    <tr>\n",
       "        <th>Maximum Speed</th>\n",
       "        <th>Count</th>\n",
       "    </tr>\n",
       "    <tr>\n",
       "        <td>25 mph</td>\n",
       "        <td>1624</td>\n",
       "    </tr>\n",
       "    <tr>\n",
       "        <td>35 mph</td>\n",
       "        <td>113</td>\n",
       "    </tr>\n",
       "    <tr>\n",
       "        <td>20 mph</td>\n",
       "        <td>66</td>\n",
       "    </tr>\n",
       "    <tr>\n",
       "        <td>40 mph</td>\n",
       "        <td>41</td>\n",
       "    </tr>\n",
       "    <tr>\n",
       "        <td>30 mph</td>\n",
       "        <td>30</td>\n",
       "    </tr>\n",
       "    <tr>\n",
       "        <td>45 mph</td>\n",
       "        <td>25</td>\n",
       "    </tr>\n",
       "    <tr>\n",
       "        <td>5 mph</td>\n",
       "        <td>5</td>\n",
       "    </tr>\n",
       "</table>"
      ],
      "text/plain": [
       "[('25 mph', 1624),\n",
       " ('35 mph', 113),\n",
       " ('20 mph', 66),\n",
       " ('40 mph', 41),\n",
       " ('30 mph', 30),\n",
       " ('45 mph', 25),\n",
       " ('5 mph', 5)]"
      ]
     },
     "execution_count": 292,
     "metadata": {},
     "output_type": "execute_result"
    }
   ],
   "source": [
    "%%sql\n",
    "SELECT value AS 'Speed Limit', COUNT(*) AS Count \n",
    "FROM tags\n",
    "WHERE key='maxspeed'\n",
    "GROUP BY value\n",
    "ORDER BY Count DESC;"
   ]
  },
  {
   "cell_type": "markdown",
   "metadata": {},
   "source": [
    "The vast majority of streets in this map have a speed limit of 25 mph."
   ]
  },
  {
   "cell_type": "markdown",
   "metadata": {},
   "source": [
    "### One Way Streets"
   ]
  },
  {
   "cell_type": "code",
   "execution_count": 4,
   "metadata": {},
   "outputs": [
    {
     "name": "stdout",
     "output_type": "stream",
     "text": [
      "Done.\n"
     ]
    },
    {
     "data": {
      "text/html": [
       "<table>\n",
       "    <tr>\n",
       "        <th>One Way Street</th>\n",
       "        <th>Count</th>\n",
       "    </tr>\n",
       "    <tr>\n",
       "        <td>yes</td>\n",
       "        <td>2193</td>\n",
       "    </tr>\n",
       "    <tr>\n",
       "        <td>no</td>\n",
       "        <td>204</td>\n",
       "    </tr>\n",
       "    <tr>\n",
       "        <td>reversible</td>\n",
       "        <td>7</td>\n",
       "    </tr>\n",
       "    <tr>\n",
       "        <td>-1</td>\n",
       "        <td>5</td>\n",
       "    </tr>\n",
       "</table>"
      ],
      "text/plain": [
       "[('yes', 2193), ('no', 204), ('reversible', 7), ('-1', 5)]"
      ]
     },
     "execution_count": 4,
     "metadata": {},
     "output_type": "execute_result"
    }
   ],
   "source": [
    "%%sql\n",
    "SELECT value AS 'One Way Street', COUNT(*) AS Count \n",
    "FROM tags\n",
    "WHERE key='oneway'\n",
    "GROUP BY value\n",
    "ORDER BY Count DESC\n",
    "LIMIT 10;"
   ]
  },
  {
   "cell_type": "code",
   "execution_count": 14,
   "metadata": {},
   "outputs": [
    {
     "name": "stdout",
     "output_type": "stream",
     "text": [
      "Done.\n"
     ]
    },
    {
     "data": {
      "text/html": [
       "<table>\n",
       "    <tr>\n",
       "        <th>one</th>\n",
       "        <th>Count</th>\n",
       "    </tr>\n",
       "    <tr>\n",
       "        <td>yes</td>\n",
       "        <td>2182</td>\n",
       "    </tr>\n",
       "    <tr>\n",
       "        <td>no</td>\n",
       "        <td>204</td>\n",
       "    </tr>\n",
       "    <tr>\n",
       "        <td>reversible</td>\n",
       "        <td>7</td>\n",
       "    </tr>\n",
       "    <tr>\n",
       "        <td>-1</td>\n",
       "        <td>5</td>\n",
       "    </tr>\n",
       "</table>"
      ],
      "text/plain": [
       "[('yes', 2182), ('no', 204), ('reversible', 7), ('-1', 5)]"
      ]
     },
     "execution_count": 14,
     "metadata": {},
     "output_type": "execute_result"
    }
   ],
   "source": [
    "%%sql\n",
    "-- The most popular cuisines among fast food restaurants\n",
    "SELECT value AS 'one', COUNT(*) AS Count \n",
    "FROM tags\n",
    "WHERE key='oneway' and id in (SELECT DISTINCT id\n",
    "                              FROM tags\n",
    "                              WHERE key='highway')\n",
    "GROUP BY value\n",
    "ORDER BY Count DESC\n",
    "LIMIT 10;"
   ]
  },
  {
   "cell_type": "markdown",
   "metadata": {},
   "source": [
    "The vast majority of the values for the 'oneway' tag refer to highways, and a vast majority of these are one way."
   ]
  },
  {
   "cell_type": "code",
   "execution_count": null,
   "metadata": {
    "collapsed": true
   },
   "outputs": [],
   "source": [
    "%%sql\n",
    "SELECT value AS 'One Way Street', COUNT(*) AS Count \n",
    "FROM tags\n",
    "WHERE key='oneway'\n",
    "GROUP BY value\n",
    "ORDER BY Count DESC\n",
    "LIMIT 10;"
   ]
  },
  {
   "cell_type": "markdown",
   "metadata": {},
   "source": [
    "### Roof Shape"
   ]
  },
  {
   "cell_type": "code",
   "execution_count": 38,
   "metadata": {},
   "outputs": [
    {
     "name": "stdout",
     "output_type": "stream",
     "text": [
      "Done.\n"
     ]
    },
    {
     "data": {
      "text/html": [
       "<table>\n",
       "    <tr>\n",
       "        <th>Roof Shape</th>\n",
       "        <th>Count</th>\n",
       "    </tr>\n",
       "    <tr>\n",
       "        <td>flat</td>\n",
       "        <td>7703</td>\n",
       "    </tr>\n",
       "    <tr>\n",
       "        <td>skillion</td>\n",
       "        <td>207</td>\n",
       "    </tr>\n",
       "    <tr>\n",
       "        <td>pyramidal</td>\n",
       "        <td>192</td>\n",
       "    </tr>\n",
       "    <tr>\n",
       "        <td>gabled</td>\n",
       "        <td>187</td>\n",
       "    </tr>\n",
       "    <tr>\n",
       "        <td>round</td>\n",
       "        <td>48</td>\n",
       "    </tr>\n",
       "    <tr>\n",
       "        <td>hipped</td>\n",
       "        <td>47</td>\n",
       "    </tr>\n",
       "    <tr>\n",
       "        <td>dome</td>\n",
       "        <td>34</td>\n",
       "    </tr>\n",
       "    <tr>\n",
       "        <td>onion</td>\n",
       "        <td>4</td>\n",
       "    </tr>\n",
       "    <tr>\n",
       "        <td>mansard</td>\n",
       "        <td>3</td>\n",
       "    </tr>\n",
       "</table>"
      ],
      "text/plain": [
       "[('flat', 7703),\n",
       " ('skillion', 207),\n",
       " ('pyramidal', 192),\n",
       " ('gabled', 187),\n",
       " ('round', 48),\n",
       " ('hipped', 47),\n",
       " ('dome', 34),\n",
       " ('onion', 4),\n",
       " ('mansard', 3)]"
      ]
     },
     "execution_count": 38,
     "metadata": {},
     "output_type": "execute_result"
    }
   ],
   "source": [
    "%%sql\n",
    "SELECT value AS 'Roof Shape', COUNT(*) AS Count \n",
    "FROM tags\n",
    "WHERE key='roof:shape'\n",
    "GROUP BY value\n",
    "ORDER BY Count DESC\n",
    "LIMIT 10;"
   ]
  },
  {
   "cell_type": "markdown",
   "metadata": {},
   "source": [
    "## Problems Encountered in the Map Data: Simple Cleaning\n",
    "\n",
    "Fields cleaned with a simple mapping of only values:\n",
    "* addr:floor ({'2nd': '2'})\n",
    "* building:levels\n",
    "* building:material ({'40' : None})\n",
    "* building:part (e.g. {'#7F7E79': None})\n",
    "* height (e.g. {'20ft' : '6.1'}, since height should be in meters with no units)\n",
    "* min_height ({'5;5.5' : '5'})\n",
    "* nycdoitt:bin\n",
    "* highway\n",
    "* roof:material ({'concrete;grass' : 'grass'})"
   ]
  },
  {
   "cell_type": "code",
   "execution_count": 309,
   "metadata": {},
   "outputs": [
    {
     "name": "stdout",
     "output_type": "stream",
     "text": [
      "Done.\n"
     ]
    },
    {
     "data": {
      "text/html": [
       "<table>\n",
       "    <tr>\n",
       "        <th>Building Material</th>\n",
       "        <th>Count</th>\n",
       "    </tr>\n",
       "    <tr>\n",
       "        <td>brick</td>\n",
       "        <td>3217</td>\n",
       "    </tr>\n",
       "    <tr>\n",
       "        <td>glass</td>\n",
       "        <td>823</td>\n",
       "    </tr>\n",
       "    <tr>\n",
       "        <td>metal</td>\n",
       "        <td>203</td>\n",
       "    </tr>\n",
       "    <tr>\n",
       "        <td>concrete</td>\n",
       "        <td>151</td>\n",
       "    </tr>\n",
       "    <tr>\n",
       "        <td>plaster</td>\n",
       "        <td>55</td>\n",
       "    </tr>\n",
       "    <tr>\n",
       "        <td>stone</td>\n",
       "        <td>47</td>\n",
       "    </tr>\n",
       "    <tr>\n",
       "        <td>copper</td>\n",
       "        <td>13</td>\n",
       "    </tr>\n",
       "    <tr>\n",
       "        <td>wood</td>\n",
       "        <td>6</td>\n",
       "    </tr>\n",
       "    <tr>\n",
       "        <td>granite</td>\n",
       "        <td>1</td>\n",
       "    </tr>\n",
       "</table>"
      ],
      "text/plain": [
       "[('brick', 3217),\n",
       " ('glass', 823),\n",
       " ('metal', 203),\n",
       " ('concrete', 151),\n",
       " ('plaster', 55),\n",
       " ('stone', 47),\n",
       " ('copper', 13),\n",
       " ('wood', 6),\n",
       " ('granite', 1)]"
      ]
     },
     "execution_count": 309,
     "metadata": {},
     "output_type": "execute_result"
    }
   ],
   "source": [
    "%%sql\n",
    "SELECT value AS 'Building Material', COUNT(*) AS Count \n",
    "FROM tags\n",
    "WHERE key='building:material'\n",
    "GROUP BY value\n",
    "ORDER BY Count DESC;"
   ]
  },
  {
   "cell_type": "code",
   "execution_count": 320,
   "metadata": {},
   "outputs": [
    {
     "name": "stdout",
     "output_type": "stream",
     "text": [
      "Done.\n"
     ]
    },
    {
     "data": {
      "text/html": [
       "<table>\n",
       "    <tr>\n",
       "        <th>Roof Material</th>\n",
       "        <th>Count</th>\n",
       "    </tr>\n",
       "    <tr>\n",
       "        <td>concrete</td>\n",
       "        <td>7405</td>\n",
       "    </tr>\n",
       "    <tr>\n",
       "        <td>metal</td>\n",
       "        <td>90</td>\n",
       "    </tr>\n",
       "    <tr>\n",
       "        <td>copper</td>\n",
       "        <td>82</td>\n",
       "    </tr>\n",
       "    <tr>\n",
       "        <td>glass</td>\n",
       "        <td>82</td>\n",
       "    </tr>\n",
       "    <tr>\n",
       "        <td>roof_tiles</td>\n",
       "        <td>75</td>\n",
       "    </tr>\n",
       "    <tr>\n",
       "        <td>stainless_steel</td>\n",
       "        <td>64</td>\n",
       "    </tr>\n",
       "    <tr>\n",
       "        <td>brick</td>\n",
       "        <td>44</td>\n",
       "    </tr>\n",
       "    <tr>\n",
       "        <td>stone</td>\n",
       "        <td>14</td>\n",
       "    </tr>\n",
       "    <tr>\n",
       "        <td>grass</td>\n",
       "        <td>4</td>\n",
       "    </tr>\n",
       "    <tr>\n",
       "        <td>slate</td>\n",
       "        <td>3</td>\n",
       "    </tr>\n",
       "</table>"
      ],
      "text/plain": [
       "[('concrete', 7405),\n",
       " ('metal', 90),\n",
       " ('copper', 82),\n",
       " ('glass', 82),\n",
       " ('roof_tiles', 75),\n",
       " ('stainless_steel', 64),\n",
       " ('brick', 44),\n",
       " ('stone', 14),\n",
       " ('grass', 4),\n",
       " ('slate', 3)]"
      ]
     },
     "execution_count": 320,
     "metadata": {},
     "output_type": "execute_result"
    }
   ],
   "source": [
    "%%sql\n",
    "SELECT value AS 'Roof Material', COUNT(*) AS Count \n",
    "FROM tags\n",
    "WHERE key='roof:material'\n",
    "GROUP BY value\n",
    "ORDER BY Count DESC;"
   ]
  },
  {
   "cell_type": "code",
   "execution_count": 310,
   "metadata": {},
   "outputs": [
    {
     "name": "stdout",
     "output_type": "stream",
     "text": [
      "Done.\n"
     ]
    },
    {
     "data": {
      "text/html": [
       "<table>\n",
       "    <tr>\n",
       "        <th>Building Part</th>\n",
       "        <th>Count</th>\n",
       "    </tr>\n",
       "    <tr>\n",
       "        <td>yes</td>\n",
       "        <td>7675</td>\n",
       "    </tr>\n",
       "    <tr>\n",
       "        <td>apartments</td>\n",
       "        <td>10</td>\n",
       "    </tr>\n",
       "    <tr>\n",
       "        <td>office</td>\n",
       "        <td>1</td>\n",
       "    </tr>\n",
       "    <tr>\n",
       "        <td>steps</td>\n",
       "        <td>1</td>\n",
       "    </tr>\n",
       "</table>"
      ],
      "text/plain": [
       "[('yes', 7675), ('apartments', 10), ('office', 1), ('steps', 1)]"
      ]
     },
     "execution_count": 310,
     "metadata": {},
     "output_type": "execute_result"
    }
   ],
   "source": [
    "%%sql\n",
    "SELECT value AS 'Building Part', COUNT(*) AS Count \n",
    "FROM tags\n",
    "WHERE key='building:part'\n",
    "GROUP BY value\n",
    "ORDER BY Count DESC;"
   ]
  },
  {
   "cell_type": "markdown",
   "metadata": {},
   "source": [
    "The building tag mostly serves to mark that the subject of the node represents a part of building (e.g. Times Square Ball is a part of the One Times Square building)."
   ]
  },
  {
   "cell_type": "code",
   "execution_count": 312,
   "metadata": {},
   "outputs": [
    {
     "name": "stdout",
     "output_type": "stream",
     "text": [
      "Done.\n"
     ]
    },
    {
     "data": {
      "text/html": [
       "<table>\n",
       "    <tr>\n",
       "        <th>Highway</th>\n",
       "        <th>Count</th>\n",
       "    </tr>\n",
       "    <tr>\n",
       "        <td>footway</td>\n",
       "        <td>2618</td>\n",
       "    </tr>\n",
       "    <tr>\n",
       "        <td>traffic_signals</td>\n",
       "        <td>1314</td>\n",
       "    </tr>\n",
       "    <tr>\n",
       "        <td>crossing</td>\n",
       "        <td>1086</td>\n",
       "    </tr>\n",
       "    <tr>\n",
       "        <td>residential</td>\n",
       "        <td>713</td>\n",
       "    </tr>\n",
       "    <tr>\n",
       "        <td>primary</td>\n",
       "        <td>555</td>\n",
       "    </tr>\n",
       "    <tr>\n",
       "        <td>secondary</td>\n",
       "        <td>555</td>\n",
       "    </tr>\n",
       "    <tr>\n",
       "        <td>service</td>\n",
       "        <td>390</td>\n",
       "    </tr>\n",
       "    <tr>\n",
       "        <td>steps</td>\n",
       "        <td>329</td>\n",
       "    </tr>\n",
       "    <tr>\n",
       "        <td>unclassified</td>\n",
       "        <td>327</td>\n",
       "    </tr>\n",
       "    <tr>\n",
       "        <td>bus_stop</td>\n",
       "        <td>207</td>\n",
       "    </tr>\n",
       "</table>"
      ],
      "text/plain": [
       "[('footway', 2618),\n",
       " ('traffic_signals', 1314),\n",
       " ('crossing', 1086),\n",
       " ('residential', 713),\n",
       " ('primary', 555),\n",
       " ('secondary', 555),\n",
       " ('service', 390),\n",
       " ('steps', 329),\n",
       " ('unclassified', 327),\n",
       " ('bus_stop', 207)]"
      ]
     },
     "execution_count": 312,
     "metadata": {},
     "output_type": "execute_result"
    }
   ],
   "source": [
    "%%sql\n",
    "SELECT value AS 'Highway', COUNT(*) AS Count \n",
    "FROM tags\n",
    "WHERE key='highway'\n",
    "GROUP BY value\n",
    "ORDER BY Count DESC\n",
    "LIMIT 10;"
   ]
  },
  {
   "cell_type": "code",
   "execution_count": 112,
   "metadata": {},
   "outputs": [
    {
     "name": "stdout",
     "output_type": "stream",
     "text": [
      "Done.\n"
     ]
    },
    {
     "data": {
      "text/html": [
       "<table>\n",
       "    <tr>\n",
       "        <th>Building Levels</th>\n",
       "        <th>Count</th>\n",
       "    </tr>\n",
       "    <tr>\n",
       "        <td>concrete</td>\n",
       "        <td>1</td>\n",
       "    </tr>\n",
       "    <tr>\n",
       "        <td>9</td>\n",
       "        <td>85</td>\n",
       "    </tr>\n",
       "    <tr>\n",
       "        <td>80</td>\n",
       "        <td>1</td>\n",
       "    </tr>\n",
       "    <tr>\n",
       "        <td>8</td>\n",
       "        <td>72</td>\n",
       "    </tr>\n",
       "    <tr>\n",
       "        <td>76</td>\n",
       "        <td>1</td>\n",
       "    </tr>\n",
       "    <tr>\n",
       "        <td>72</td>\n",
       "        <td>2</td>\n",
       "    </tr>\n",
       "    <tr>\n",
       "        <td>71</td>\n",
       "        <td>1</td>\n",
       "    </tr>\n",
       "    <tr>\n",
       "        <td>7</td>\n",
       "        <td>110</td>\n",
       "    </tr>\n",
       "    <tr>\n",
       "        <td>67</td>\n",
       "        <td>1</td>\n",
       "    </tr>\n",
       "    <tr>\n",
       "        <td>60</td>\n",
       "        <td>1</td>\n",
       "    </tr>\n",
       "</table>"
      ],
      "text/plain": [
       "[('concrete', 1),\n",
       " ('9', 85),\n",
       " ('80', 1),\n",
       " ('8', 72),\n",
       " ('76', 1),\n",
       " ('72', 2),\n",
       " ('71', 1),\n",
       " ('7', 110),\n",
       " ('67', 1),\n",
       " ('60', 1)]"
      ]
     },
     "execution_count": 112,
     "metadata": {},
     "output_type": "execute_result"
    }
   ],
   "source": [
    "%%sql\n",
    "SELECT value AS 'Building Levels', COUNT(value) AS Count \n",
    "FROM tags\n",
    "WHERE key='building:levels'\n",
    "GROUP BY value\n",
    "ORDER BY value DESC\n",
    "LIMIT 10;"
   ]
  },
  {
   "cell_type": "code",
   "execution_count": 353,
   "metadata": {},
   "outputs": [
    {
     "name": "stdout",
     "output_type": "stream",
     "text": [
      "Done.\n"
     ]
    },
    {
     "data": {
      "text/html": [
       "<table>\n",
       "    <tr>\n",
       "        <th>Maximum, Minimum Height</th>\n",
       "    </tr>\n",
       "    <tr>\n",
       "        <td>330</td>\n",
       "    </tr>\n",
       "</table>"
      ],
      "text/plain": [
       "[(330,)]"
      ]
     },
     "execution_count": 353,
     "metadata": {},
     "output_type": "execute_result"
    }
   ],
   "source": [
    "%%sql\n",
    "SELECT MAX(CAST(value AS INT)) AS 'Maximum, Minimum Height'\n",
    "FROM tags\n",
    "WHERE key='min_height'\n",
    "LIMIT 10;"
   ]
  },
  {
   "cell_type": "code",
   "execution_count": 352,
   "metadata": {},
   "outputs": [
    {
     "name": "stdout",
     "output_type": "stream",
     "text": [
      "Done.\n"
     ]
    },
    {
     "data": {
      "text/html": [
       "<table>\n",
       "    <tr>\n",
       "        <th>Maximum Height</th>\n",
       "    </tr>\n",
       "    <tr>\n",
       "        <td>541</td>\n",
       "    </tr>\n",
       "</table>"
      ],
      "text/plain": [
       "[(541,)]"
      ]
     },
     "execution_count": 352,
     "metadata": {},
     "output_type": "execute_result"
    }
   ],
   "source": [
    "%%sql\n",
    "SELECT MAX(CAST(value AS INT)) AS 'Maximum Height'\n",
    "FROM tags\n",
    "WHERE key='height'\n",
    "LIMIT 10;"
   ]
  },
  {
   "cell_type": "markdown",
   "metadata": {},
   "source": [
    "## Problems Encountered in the Map Data: More Complex Cleaning\n",
    "\n",
    "Fields with known problems:\n",
    "* zip code (addr:postcode, postal_code)\n",
    "* address unit (addr:unit)\n",
    "* housenumber (addr:housenumber)\n",
    "* street (addr:street)\n",
    "* city (addr:city)\n",
    "* state (addr:state)\n",
    "* country (addr:country)\n",
    "* place (addr:place)\n",
    "* full address (addr:full)\n",
    "* levels and floors ('addr:floor', 'addr:level', 'building:level', 'building:levels')\n",
    "* phone number (phone, contact:phone, phone:emergency, contact:fax, Phone, phone_1, fax)\n",
    "* capacity\n",
    "* building\n",
    "* amenity\n",
    "* shop\n",
    "* leisure\n",
    "* cuisine"
   ]
  },
  {
   "cell_type": "markdown",
   "metadata": {},
   "source": [
    "### Zip Codes\n",
    "Postcodes were represented inconsistently in the data for the 'addr:postcode'.  Some included a prefix of NY or were in the ZIP+4 format.  These zip codes were fixed programmatically using regular expressions.\n",
    "\n",
    "I also manually assembled a list of valid zip codes for the areas included in the map.  Some postcodes in the data set were not present in the list.  For instance, 10023, which represents the Lincoln Square area of Manhattan, was erroneously assigned to an address near City Hall.  These zip codes were manually corrected with a dictionary mapping.  Typos in postcodes, such as ‘100014’ which has six digits, were also corrected manually.\n",
    "\n",
    "Example errors in zip codes:\n",
    "* 'NY 10007'\n",
    "* '10002-1013'\n",
    "* '100014'\n",
    "* '10023'\n",
    "\n",
    "The postcodes in the 'postal_code' were clean, but needed to have their key changed to 'addr:postcode'."
   ]
  },
  {
   "cell_type": "code",
   "execution_count": 4,
   "metadata": {
    "scrolled": true
   },
   "outputs": [
    {
     "name": "stdout",
     "output_type": "stream",
     "text": [
      "Done.\n"
     ]
    },
    {
     "data": {
      "text/html": [
       "<table>\n",
       "    <tr>\n",
       "        <th>Zip Code</th>\n",
       "        <th>Count</th>\n",
       "    </tr>\n",
       "    <tr>\n",
       "        <td>10011</td>\n",
       "        <td>2824</td>\n",
       "    </tr>\n",
       "    <tr>\n",
       "        <td>10003</td>\n",
       "        <td>2563</td>\n",
       "    </tr>\n",
       "    <tr>\n",
       "        <td>10014</td>\n",
       "        <td>2556</td>\n",
       "    </tr>\n",
       "    <tr>\n",
       "        <td>10002</td>\n",
       "        <td>2494</td>\n",
       "    </tr>\n",
       "    <tr>\n",
       "        <td>10013</td>\n",
       "        <td>2175</td>\n",
       "    </tr>\n",
       "    <tr>\n",
       "        <td>10016</td>\n",
       "        <td>1925</td>\n",
       "    </tr>\n",
       "    <tr>\n",
       "        <td>10009</td>\n",
       "        <td>1685</td>\n",
       "    </tr>\n",
       "    <tr>\n",
       "        <td>10001</td>\n",
       "        <td>1666</td>\n",
       "    </tr>\n",
       "    <tr>\n",
       "        <td>10012</td>\n",
       "        <td>1570</td>\n",
       "    </tr>\n",
       "    <tr>\n",
       "        <td>10010</td>\n",
       "        <td>971</td>\n",
       "    </tr>\n",
       "</table>"
      ],
      "text/plain": [
       "[('10011', 2824),\n",
       " ('10003', 2563),\n",
       " ('10014', 2556),\n",
       " ('10002', 2494),\n",
       " ('10013', 2175),\n",
       " ('10016', 1925),\n",
       " ('10009', 1685),\n",
       " ('10001', 1666),\n",
       " ('10012', 1570),\n",
       " ('10010', 971)]"
      ]
     },
     "execution_count": 4,
     "metadata": {},
     "output_type": "execute_result"
    }
   ],
   "source": [
    "%%sql\n",
    "SELECT value AS 'Zip Code', COUNT(*) AS Count \n",
    "FROM tags\n",
    "WHERE key='addr:postcode'\n",
    "GROUP BY value\n",
    "ORDER BY Count DESC\n",
    "LIMIT 10;"
   ]
  },
  {
   "cell_type": "markdown",
   "metadata": {},
   "source": [
    "### Address Unit\n",
    "There were only a few values that were non-numeric and hence not valid values for the key of 'addr:unit'.  For these values, if value contained 'Suite' then the key was changed to 'addr:suite' and the number was extracted and assigned to the value (similar for those that contain floor).  For all other values, the number was extracted and emitted.  In all cases, regular expressions were used.\n",
    "\n",
    "Example errors in 'addr:unit':\n",
    "* 'Suite #1'\n",
    "* '19th Floor'\n",
    "* 'Suite 8500'\n",
    "* '#37'"
   ]
  },
  {
   "cell_type": "markdown",
   "metadata": {},
   "source": [
    "### Housenumber\n",
    "\n",
    "There were a variety of different forms of acceptable values for 'addr:housenumber'.  These included housenumbers of the form:\n",
    "* '15'\n",
    "* '10 1/2'\n",
    "* '19 1/4'\n",
    "* '184 3/4'\n",
    "* '23B'\n",
    "* '58 Rear'\n",
    "* '10-17'\n",
    "* '409 Rear-A'\n",
    "* '38 Front A'\n",
    "* '170,176'\n",
    "\n",
    "A list of regular expressions for these forms of housenumbers were compiled.  Before the housenumbers were compared to the regular expressions, 'REAR' was replaced with 'Rear', the space was removed from housenumbers that had a number and 'A' separated by a space, and some of the housenumbers were corrected via mapping.  If the housenumber doesn't match any of these, then the number is extracted by taking the first element of the split of the housenumber.\n",
    "\n",
    "A few of the housenumbers also included other information besides the housenumber, including the suite, street, and floor.  Also, some of the values also included directions (e.g. East, West) that would need to be appended to the value of the 'addr:street'.  All of these were added to a dictionary of additional tags.  When shaping the data, if the additional tag had a direction, then the id for this node/way/relation was appended to a list.  If this node/way/relation had a direction and 'addr:street' tag, and the value for 'addr:street' did not already start with a direction, then it was appended to it."
   ]
  },
  {
   "cell_type": "code",
   "execution_count": 315,
   "metadata": {},
   "outputs": [
    {
     "name": "stdout",
     "output_type": "stream",
     "text": [
      "Done.\n"
     ]
    },
    {
     "data": {
      "text/html": [
       "<table>\n",
       "    <tr>\n",
       "        <th>Housenumber</th>\n",
       "        <th>Count</th>\n",
       "    </tr>\n",
       "    <tr>\n",
       "        <td>1</td>\n",
       "        <td>254</td>\n",
       "    </tr>\n",
       "    <tr>\n",
       "        <td>2</td>\n",
       "        <td>185</td>\n",
       "    </tr>\n",
       "    <tr>\n",
       "        <td>15</td>\n",
       "        <td>163</td>\n",
       "    </tr>\n",
       "    <tr>\n",
       "        <td>25</td>\n",
       "        <td>159</td>\n",
       "    </tr>\n",
       "    <tr>\n",
       "        <td>10</td>\n",
       "        <td>145</td>\n",
       "    </tr>\n",
       "    <tr>\n",
       "        <td>100</td>\n",
       "        <td>140</td>\n",
       "    </tr>\n",
       "    <tr>\n",
       "        <td>11</td>\n",
       "        <td>137</td>\n",
       "    </tr>\n",
       "    <tr>\n",
       "        <td>45</td>\n",
       "        <td>134</td>\n",
       "    </tr>\n",
       "    <tr>\n",
       "        <td>7</td>\n",
       "        <td>133</td>\n",
       "    </tr>\n",
       "    <tr>\n",
       "        <td>40</td>\n",
       "        <td>131</td>\n",
       "    </tr>\n",
       "</table>"
      ],
      "text/plain": [
       "[('1', 254),\n",
       " ('2', 185),\n",
       " ('15', 163),\n",
       " ('25', 159),\n",
       " ('10', 145),\n",
       " ('100', 140),\n",
       " ('11', 137),\n",
       " ('45', 134),\n",
       " ('7', 133),\n",
       " ('40', 131)]"
      ]
     },
     "execution_count": 315,
     "metadata": {},
     "output_type": "execute_result"
    }
   ],
   "source": [
    "%%sql\n",
    "SELECT value AS 'Housenumber', COUNT(value) AS Count \n",
    "FROM tags\n",
    "WHERE key='addr:housenumber'\n",
    "GROUP BY value\n",
    "ORDER BY Count DESC\n",
    "LIMIT 10;"
   ]
  },
  {
   "cell_type": "markdown",
   "metadata": {},
   "source": [
    "It makes sense that the most popular housenumbers are relatively low and are only numbers (i.e do not contain any extra letters, 'Rear', etc.)"
   ]
  },
  {
   "cell_type": "markdown",
   "metadata": {},
   "source": [
    "### Street\n",
    "Out of the fields I investigated, 'addr:street' had the most problems.  There were problems with, and including examples:\n",
    "* abbreviations of street types (e.g. St., Ave)\n",
    "* no street types (e.g. Old Fulton)\n",
    "* abbreviations of directions (e.g. S., E)\n",
    "* inconsistency in numbered streets (Second Avenue vs. 2nd Avenue)\n",
    "* including housenumbers\n",
    "* including suite numbers\n",
    "* including city\n",
    "* including state\n",
    "* including floor\n",
    "* including zip code\n",
    "* inconsistent capitalization (Avenue Of The Americas vs. Avenue of the Americas)\n",
    "* wrong or no contraction on ordinal numbers (12nd Street, 31 Street)\n",
    "* unnecessary appostrophes (e.g. Saint Mark's Place)\n",
    "* wrong or inconsistent spacing (Laguardia Place vs. La Guardia Place)\n",
    "* not valid streets (e.g. Gramery Park, World Trade Center)\n",
    "\n",
    "\n",
    "Example errors in addr:street:\n",
    "* '109 East 42nd Street'\n",
    "* '10th Ave #2E'\n",
    "* '230th East 51st Street'\n",
    "* '334 Furman St, Brooklyn'\n",
    "* '400th West 20th St., Suite 2N'\n",
    "* '54 W 39th St New York, NY'\n",
    "* 'E. 4th Street'\n",
    "* 'Highline'\n",
    "\n",
    "First all streets were changed to title case apart from some exceptions that should remain completely capitalized, like 'FDR Drive', and those like 'of' and 'the' that should be lowercase when not appearing as the first word.  After fully auditing, some of the streets were found to be completely invalid, like 'Track' and 'Washington Square Village'.  Values of None were emitted for these streets, and so were effectively removed from the data.  At this point there was a collection of streets that could not be corrected programmatically, and so were updated using a dictionary mapping.  These included '85th West Street' being changed to 'West 85th Street' and '29th' to '29th Street'.\n",
    "\n",
    "The rest of the cities, if they were not in the previously mentioned mapping, were corrected mostly using regular expressions.  If the city, like 'New York' or 'Brooklyn' was present, that was removed from the street and was returned as the value for 'addr:city' tag key.  Then, commas were removed from the data set.  Regular expressions and a mapping were used to replace abbreviated directions for North, South, East, and West with their longer counterpart.  If a floor, suite, zip code, or housenumber was present these were removed from the street and were assigned to the 'addr:floor', 'addr:suite', 'addr:postcode', or 'addr:housenumber' tag key, respectively.  Regular expressions were used to find numbered streets that didn't use numbers to represent them (e.g. Fourth as opposed to 4th).  These were then replaced using a mapping to their numbered equivalent.  Finally, the street type (e.g. Street, Road, Place) was extracted using regular expressions, and it was replaced using a mapping if it was an abbreviation.\n",
    "\n",
    "```python\n",
    "def update_street(s):\n",
    "    s = title_case(s, ['fdr', 'un'], ['of', 'the'])\n",
    "\n",
    "    if s in invalid_streets:\n",
    "        return None\n",
    "    if s in full_street_mapping:\n",
    "        s = full_street_mapping[s]    \n",
    "    \n",
    "    s = remove_city(s)\n",
    "    s = remove_commas(s)\n",
    "    \n",
    "    # Fix directional abbreviations\n",
    "    s = re.sub('[\\s]*W[\\.]*[\\s]+', ' West ', s).strip()\n",
    "    s = re.sub('[\\s]*E[\\.]*[\\s]+', ' East ', s).strip()\n",
    "    s = re.sub('[\\s]*S[\\.]*$', ' South', s).strip()\n",
    "    \n",
    "    s = remove_floor(s)\n",
    "    s = remove_suite(s)\n",
    "    s = remove_postcode(s)\n",
    "    s = remove_housenumber(s)\n",
    "    s = update_non_number(s)\n",
    "    \n",
    "    st_type = get_street_type(s)\n",
    "    if st_type in street_type_mapping:\n",
    "        s = re.sub(st_type, street_type_mapping[st_type], s)\n",
    "    return s.strip()\n",
    "```\n",
    "\n",
    "'State Street & Water Street' was the only value for 'addr:street' that included more than one street.  This was the address for SeaGlass Carousel in The Battery.  Since both Google Maps and their official site list their address using both streets, I decided to keep both."
   ]
  },
  {
   "cell_type": "code",
   "execution_count": 7,
   "metadata": {},
   "outputs": [
    {
     "name": "stdout",
     "output_type": "stream",
     "text": [
      "Done.\n"
     ]
    },
    {
     "data": {
      "text/html": [
       "<table>\n",
       "    <tr>\n",
       "        <th>Street</th>\n",
       "        <th>Count</th>\n",
       "    </tr>\n",
       "    <tr>\n",
       "        <td>Broadway</td>\n",
       "        <td>616</td>\n",
       "    </tr>\n",
       "    <tr>\n",
       "        <td>2nd Avenue</td>\n",
       "        <td>482</td>\n",
       "    </tr>\n",
       "    <tr>\n",
       "        <td>3rd Avenue</td>\n",
       "        <td>392</td>\n",
       "    </tr>\n",
       "    <tr>\n",
       "        <td>8th Avenue</td>\n",
       "        <td>343</td>\n",
       "    </tr>\n",
       "    <tr>\n",
       "        <td>1st Avenue</td>\n",
       "        <td>326</td>\n",
       "    </tr>\n",
       "    <tr>\n",
       "        <td>5th Avenue</td>\n",
       "        <td>295</td>\n",
       "    </tr>\n",
       "    <tr>\n",
       "        <td>6th Avenue</td>\n",
       "        <td>291</td>\n",
       "    </tr>\n",
       "    <tr>\n",
       "        <td>Grand Street</td>\n",
       "        <td>260</td>\n",
       "    </tr>\n",
       "    <tr>\n",
       "        <td>The Bowery</td>\n",
       "        <td>248</td>\n",
       "    </tr>\n",
       "    <tr>\n",
       "        <td>Canal Street</td>\n",
       "        <td>242</td>\n",
       "    </tr>\n",
       "</table>"
      ],
      "text/plain": [
       "[('Broadway', 616),\n",
       " ('2nd Avenue', 482),\n",
       " ('3rd Avenue', 392),\n",
       " ('8th Avenue', 343),\n",
       " ('1st Avenue', 326),\n",
       " ('5th Avenue', 295),\n",
       " ('6th Avenue', 291),\n",
       " ('Grand Street', 260),\n",
       " ('The Bowery', 248),\n",
       " ('Canal Street', 242)]"
      ]
     },
     "execution_count": 7,
     "metadata": {},
     "output_type": "execute_result"
    }
   ],
   "source": [
    "%%sql\n",
    "SELECT value AS 'Street', COUNT(*) AS Count \n",
    "FROM tags\n",
    "WHERE key='addr:street'\n",
    "GROUP BY value\n",
    "ORDER BY Count DESC\n",
    "LIMIT 10;"
   ]
  },
  {
   "cell_type": "markdown",
   "metadata": {},
   "source": [
    "It is unsurprising that these are the streets that appear most frequently in the data set; besides that there are an abundance of landmarks on Broadway, it along with the Avenues are the longest streets in Manhattan (being much longer than their cross streets)."
   ]
  },
  {
   "cell_type": "code",
   "execution_count": 6,
   "metadata": {},
   "outputs": [
    {
     "name": "stdout",
     "output_type": "stream",
     "text": [
      "Done.\n"
     ]
    },
    {
     "data": {
      "text/html": [
       "<table>\n",
       "    <tr>\n",
       "        <th>Street</th>\n",
       "        <th>Count</th>\n",
       "    </tr>\n",
       "    <tr>\n",
       "        <td>Grand Street</td>\n",
       "        <td>260</td>\n",
       "    </tr>\n",
       "    <tr>\n",
       "        <td>Canal Street</td>\n",
       "        <td>242</td>\n",
       "    </tr>\n",
       "    <tr>\n",
       "        <td>West 22nd Street</td>\n",
       "        <td>242</td>\n",
       "    </tr>\n",
       "    <tr>\n",
       "        <td>East 14th Street</td>\n",
       "        <td>241</td>\n",
       "    </tr>\n",
       "    <tr>\n",
       "        <td>Greenwich Street</td>\n",
       "        <td>230</td>\n",
       "    </tr>\n",
       "    <tr>\n",
       "        <td>Bleecker Street</td>\n",
       "        <td>223</td>\n",
       "    </tr>\n",
       "    <tr>\n",
       "        <td>East 10th Street</td>\n",
       "        <td>222</td>\n",
       "    </tr>\n",
       "    <tr>\n",
       "        <td>West 20th Street</td>\n",
       "        <td>217</td>\n",
       "    </tr>\n",
       "    <tr>\n",
       "        <td>Hudson Street</td>\n",
       "        <td>211</td>\n",
       "    </tr>\n",
       "    <tr>\n",
       "        <td>West 11th Street</td>\n",
       "        <td>209</td>\n",
       "    </tr>\n",
       "</table>"
      ],
      "text/plain": [
       "[('Grand Street', 260),\n",
       " ('Canal Street', 242),\n",
       " ('West 22nd Street', 242),\n",
       " ('East 14th Street', 241),\n",
       " ('Greenwich Street', 230),\n",
       " ('Bleecker Street', 223),\n",
       " ('East 10th Street', 222),\n",
       " ('West 20th Street', 217),\n",
       " ('Hudson Street', 211),\n",
       " ('West 11th Street', 209)]"
      ]
     },
     "execution_count": 6,
     "metadata": {},
     "output_type": "execute_result"
    }
   ],
   "source": [
    "%%sql\n",
    "SELECT value AS 'Street', COUNT(*) AS Count \n",
    "FROM tags\n",
    "WHERE key='addr:street' and value LIKE '% Street'\n",
    "GROUP BY value\n",
    "ORDER BY Count DESC\n",
    "LIMIT 10;"
   ]
  },
  {
   "cell_type": "markdown",
   "metadata": {},
   "source": [
    "The top ten streets have very similar frequencies, most likely since these streets are all comparable in length."
   ]
  },
  {
   "cell_type": "code",
   "execution_count": 31,
   "metadata": {
    "scrolled": true
   },
   "outputs": [
    {
     "name": "stdout",
     "output_type": "stream",
     "text": [
      "Done.\n"
     ]
    },
    {
     "data": {
      "text/html": [
       "<table>\n",
       "    <tr>\n",
       "        <th>Street</th>\n",
       "        <th>Count</th>\n",
       "    </tr>\n",
       "    <tr>\n",
       "        <td>Henry Street</td>\n",
       "        <td>12</td>\n",
       "    </tr>\n",
       "    <tr>\n",
       "        <td>Willow Street</td>\n",
       "        <td>9</td>\n",
       "    </tr>\n",
       "    <tr>\n",
       "        <td>Water Street</td>\n",
       "        <td>6</td>\n",
       "    </tr>\n",
       "    <tr>\n",
       "        <td>Front Street</td>\n",
       "        <td>5</td>\n",
       "    </tr>\n",
       "    <tr>\n",
       "        <td>Columbia Heights</td>\n",
       "        <td>4</td>\n",
       "    </tr>\n",
       "    <tr>\n",
       "        <td>Clark Street</td>\n",
       "        <td>3</td>\n",
       "    </tr>\n",
       "    <tr>\n",
       "        <td>Hicks Street</td>\n",
       "        <td>3</td>\n",
       "    </tr>\n",
       "    <tr>\n",
       "        <td>Jay Street</td>\n",
       "        <td>3</td>\n",
       "    </tr>\n",
       "    <tr>\n",
       "        <td>Main Street</td>\n",
       "        <td>3</td>\n",
       "    </tr>\n",
       "    <tr>\n",
       "        <td>Old Fulton Street</td>\n",
       "        <td>3</td>\n",
       "    </tr>\n",
       "</table>"
      ],
      "text/plain": [
       "[('Henry Street', 12),\n",
       " ('Willow Street', 9),\n",
       " ('Water Street', 6),\n",
       " ('Front Street', 5),\n",
       " ('Columbia Heights', 4),\n",
       " ('Clark Street', 3),\n",
       " ('Hicks Street', 3),\n",
       " ('Jay Street', 3),\n",
       " ('Main Street', 3),\n",
       " ('Old Fulton Street', 3)]"
      ]
     },
     "execution_count": 31,
     "metadata": {},
     "output_type": "execute_result"
    }
   ],
   "source": [
    "%%sql\n",
    "--Most popular streets in the Brooklyn part of map\n",
    "\n",
    "SELECT value AS 'Street', COUNT(*) AS Count \n",
    "FROM tags\n",
    "WHERE key='addr:street' and id in (SELECT id\n",
    "                                   FROM tags\n",
    "                                   WHERE key='addr:city' and value='Brooklyn')\n",
    "GROUP BY value\n",
    "ORDER BY Count DESC\n",
    "LIMIT 10;"
   ]
  },
  {
   "cell_type": "markdown",
   "metadata": {},
   "source": [
    "### Cities"
   ]
  },
  {
   "cell_type": "markdown",
   "metadata": {},
   "source": [
    "There was inconsistency with how cities were represented.  The only two acceptable cities are New York and Brooklyn.  The addr:city tags erroneously included the state, referred to the neighborhood as opposed to the city, and had capitalization inconsistencies.  All those referring to New York, Manhattan, and its neighborhoods were mapped to New York; there were no problems with those marked 'Brooklyn.'\n",
    "\n",
    "Example errors in city:\n",
    "* 'Manhattan NYC'\n",
    "* 'NEW YORK CITY'\n",
    "* 'New York City'\n",
    "* 'New York, NY'\n",
    "* 'Tribeca'\n",
    "* 'York City'\n",
    "* 'new york'"
   ]
  },
  {
   "cell_type": "code",
   "execution_count": 5,
   "metadata": {},
   "outputs": [
    {
     "name": "stdout",
     "output_type": "stream",
     "text": [
      "Done.\n"
     ]
    },
    {
     "data": {
      "text/html": [
       "<table>\n",
       "    <tr>\n",
       "        <th>City</th>\n",
       "        <th>Count</th>\n",
       "    </tr>\n",
       "    <tr>\n",
       "        <td>New York</td>\n",
       "        <td>3316</td>\n",
       "    </tr>\n",
       "    <tr>\n",
       "        <td>Brooklyn</td>\n",
       "        <td>77</td>\n",
       "    </tr>\n",
       "</table>"
      ],
      "text/plain": [
       "[('New York', 3316), ('Brooklyn', 77)]"
      ]
     },
     "execution_count": 5,
     "metadata": {},
     "output_type": "execute_result"
    }
   ],
   "source": [
    "%%sql\n",
    "SELECT value AS 'City', COUNT(*) AS Count \n",
    "FROM tags\n",
    "WHERE key='addr:city'\n",
    "GROUP BY value\n",
    "ORDER BY Count DESC\n",
    "LIMIT 10;"
   ]
  },
  {
   "cell_type": "markdown",
   "metadata": {},
   "source": [
    "###  States\n",
    "Almost all of the values for addr:state were 'NY' with only the errors being those listed below.\n",
    "\n",
    "Errors in state:\n",
    "* '10009'\n",
    "* 'New York'\n",
    "* 'New York State'\n",
    "* 'ny'\n",
    "\n",
    "Since 'NY' is the only valid value, a function was not required and all values for the key 'addr:state' were assigned to 'NY'."
   ]
  },
  {
   "cell_type": "markdown",
   "metadata": {},
   "source": [
    "### Countries\n",
    "453 of the values for the key addr:country were 'US', with only five being 'USA'.  Since 'US' is the only valid value, a function was not required and all values for the key 'addr:country' were assigned to it."
   ]
  },
  {
   "cell_type": "markdown",
   "metadata": {},
   "source": [
    "### Place\n",
    "addr:place should only be used in the cases where the address does not have any streets and only a housenumber and village, island, territorial zone, etc. can be used to refer to it.\n",
    "\n",
    "I updated the key for 'Hudson Street' to 'addr:street'.\n",
    "\n",
    "Soho Mews is the name an apartment building and is the value for the name key tag for both of the nodes that also have it as the value for 'addr:place'.  Hence, I outputted its value as None, effectively removing it from the data set, since it is not an appropriate value for 'addr:place'.\n",
    "\n",
    "There are two appearances of the value of 'Manhattan Island'.  One is for a node that refers to a building with a street address, and hence is not appropriate.  The other is for a relation that refers to the actual island of Manhattan and is correctly used.  So when cleaning elements with this tag, I did not apply the function to relations."
   ]
  },
  {
   "cell_type": "code",
   "execution_count": 364,
   "metadata": {},
   "outputs": [
    {
     "name": "stdout",
     "output_type": "stream",
     "text": [
      "Done.\n"
     ]
    },
    {
     "data": {
      "text/html": [
       "<table>\n",
       "    <tr>\n",
       "        <th>Place</th>\n",
       "        <th>Count</th>\n",
       "    </tr>\n",
       "</table>"
      ],
      "text/plain": [
       "[]"
      ]
     },
     "execution_count": 364,
     "metadata": {},
     "output_type": "execute_result"
    }
   ],
   "source": [
    "%%sql\n",
    "SELECT value AS 'Place', COUNT(*) AS Count \n",
    "FROM tags\n",
    "WHERE key='addr:place'\n",
    "GROUP BY value\n",
    "ORDER BY Count DESC\n",
    "LIMIT 14;"
   ]
  },
  {
   "cell_type": "markdown",
   "metadata": {},
   "source": [
    "### Full Address\n",
    "There were three appearances of the 'addr:full' key in the data.  This tag key is only meant to be used when the address cannot be expressed using the structured address fields.\n",
    "\n",
    "The first value: '20 Jay Street #842, Brooklyn, New York 11201' did not meet this criteria.  Furthermore, this node also included the structured address tags (e.g. 'addr:housenumber' = '20').  The only tag it was missing was for 'addr:suite', which I added to the addtl_tags dictionary, so that it may be assigned to this address' tags.\n",
    "\n",
    "The next value, '42nd Street Between 7th Avenue and Broadway' is for the Times Square Ball.  This address did not include any of the structured address tags.  This full address value was also unnecessary, since it has a well defined address at the top of One Times Square, also known as 1475 Broadway.  So, I added the appropriate values for housenumber, street, city, state, and postcode to addtl_tags.\n",
    "\n",
    "The last value was for Bryant Park at 'Between 40th and 42nd Streets at 6th Avenue'.  I changed this to '6th Avenue between 40th and 42nd Streets', so that it had the between streets at the end of the address.  This address also had all of the appropriate structured address tags that had information beyond this street address, such as city, zip code, and state."
   ]
  },
  {
   "cell_type": "markdown",
   "metadata": {},
   "source": [
    "### Levels and Floors\n",
    "\n",
    "The values for 'addr:level' are clean, but their key needed to be changed to 'addr:floor'.\n",
    "\n",
    "\n",
    "Similarly, the values for 'building:level' are clean, but their key needed to be changed to 'building:levels', which is being explored above.\n"
   ]
  },
  {
   "cell_type": "markdown",
   "metadata": {},
   "source": [
    "### Phone Numbers\n",
    "According to the OSM Wiki phones must be represented as a plus sign, country code, area code, local number all either separated by dashes or by spaces; I chose to use dashes.\n",
    "\n",
    "Phone numbers were represented in a variety of ways, including with no spaces or dashes, no country code, with parentheses, using periods, extensions, or with multiple phone numbers.  Only the first phone number was emitted and no extensions were included in the updated numbers.\n",
    "\n",
    "Example errors in phone numbers:\n",
    "* '7188753700'\n",
    "* '917 639 3089'\n",
    "* '646) 205-7782'\n",
    "* '2127547403#100,107,108,109'\n",
    "* '212.229.2226'\n",
    "* '1 (646) 598-0100'\n",
    "* '001 646-6740001'\n",
    "* '+12127777702'\n",
    "\n",
    "Some phone numbers started correctly with the +1 country code for the United States, others only included the 1, others started with 001 (which is the exit code for most countries and how the +1 is dialed on phones that do not have the plus sign capability), and others did not include any part of the country code.\n",
    "\n",
    "Values for the 'phone', 'contact:phone', 'phone:emergency', 'contact:fax', 'Phone', and 'phone_1' tags were updated using the code below.  In addition, the tag keys for 'Phone' and 'phone_1' were corrected to 'phone'.\n",
    "\n",
    "\n",
    "```python\n",
    "def is_valid_phone(phone):\n",
    "    r = re.compile(r'^\\+1-\\d{3}-\\d{3}-\\d{4}$')\n",
    "    if r.match(phone) is not None:        \n",
    "        return True\n",
    "    else:\n",
    "        return False\n",
    "\n",
    "# Use this to clean all phone number tag fields:\n",
    "# contact:phone, Phone, phone_1, phone:emergency, fax, contact:fax\n",
    "def update_phone(phone):\n",
    "    \"\"\"Returns the cleaned version of the phone number, and only returns\n",
    "    the first phone number listed\"\"\"\n",
    "    # replace multiple spaces with one space\n",
    "    phone = re.sub('\\s+', '', phone).strip()\n",
    "    for ch in ['(',')','.','-']:\n",
    "        phone = phone.replace(ch, '')\n",
    "    \n",
    "    if phone.startswith('001'):\n",
    "        phone = '+' + phone[2:]\n",
    "    if not phone.startswith('+'):\n",
    "        phone = '+' + phone\n",
    "    if phone[1] != '1':\n",
    "        phone = phone[0] + '1' + phone[1:]\n",
    "    \n",
    "    phone = phone[0:2] + '-' + phone[2:5] + '-' + phone[5:8] + '-' + phone[8:]\n",
    "    \n",
    "    # Do not return second phone numbers or extensions\n",
    "    phone = phone[0:15]\n",
    "    \n",
    "    if is_valid_phone(phone):\n",
    "        return phone\n",
    "    else:\n",
    "        return None\n",
    "\n",
    "```\n"
   ]
  },
  {
   "cell_type": "code",
   "execution_count": 6,
   "metadata": {},
   "outputs": [
    {
     "name": "stdout",
     "output_type": "stream",
     "text": [
      "Done.\n"
     ]
    },
    {
     "data": {
      "text/html": [
       "<table>\n",
       "    <tr>\n",
       "        <th>Phone Number</th>\n",
       "        <th>Count</th>\n",
       "    </tr>\n",
       "    <tr>\n",
       "        <td>+1-844-359-2523</td>\n",
       "        <td>4</td>\n",
       "    </tr>\n",
       "    <tr>\n",
       "        <td>+1-212-533-4575</td>\n",
       "        <td>3</td>\n",
       "    </tr>\n",
       "    <tr>\n",
       "        <td>+1-212-219-0666</td>\n",
       "        <td>2</td>\n",
       "    </tr>\n",
       "    <tr>\n",
       "        <td>+1-212-227-3400</td>\n",
       "        <td>2</td>\n",
       "    </tr>\n",
       "    <tr>\n",
       "        <td>+1-212-233-8338</td>\n",
       "        <td>2</td>\n",
       "    </tr>\n",
       "</table>"
      ],
      "text/plain": [
       "[('+1-844-359-2523', 4),\n",
       " ('+1-212-533-4575', 3),\n",
       " ('+1-212-219-0666', 2),\n",
       " ('+1-212-227-3400', 2),\n",
       " ('+1-212-233-8338', 2)]"
      ]
     },
     "execution_count": 6,
     "metadata": {},
     "output_type": "execute_result"
    }
   ],
   "source": [
    "%%sql\n",
    "SELECT value AS 'Phone Number', COUNT(*) AS Count \n",
    "FROM tags\n",
    "WHERE tags.key in ('phone', 'contact:phone', 'phone:emergency',\n",
    "                   'contact:fax', 'Phone', 'phone_1', 'fax')\n",
    "GROUP BY value\n",
    "ORDER BY Count DESC\n",
    "LIMIT 5;"
   ]
  },
  {
   "cell_type": "markdown",
   "metadata": {},
   "source": [
    "None of the phone numbers occurred more than 4 times in the data set and 913 of the phone numbers out of 932 only occurred once."
   ]
  },
  {
   "cell_type": "code",
   "execution_count": 7,
   "metadata": {},
   "outputs": [
    {
     "name": "stdout",
     "output_type": "stream",
     "text": [
      "(sqlite3.OperationalError) table phone_count_again already exists [SQL: \"CREATE VIEW phone_count_again AS\\nSELECT phone_counts.Count, COUNT(*) AS Frequency\\nFROM (SELECT COUNT(*) as Count \\n      FROM tags\\n      WHERE tags.key in ('phone', 'contact:phone', 'phone:emergency',\\n                   'contact:fax', 'Phone', 'phone_1', 'fax')\\n      GROUP BY value\\n      ORDER BY Count DESC) phone_counts\\nGROUP BY Count;\"]\n"
     ]
    }
   ],
   "source": [
    "%%sql\n",
    "CREATE VIEW phone_count_again AS\n",
    "SELECT phone_counts.Count, COUNT(*) AS Frequency\n",
    "FROM (SELECT COUNT(*) AS Count \n",
    "      FROM tags\n",
    "      WHERE tags.key in ('phone', 'contact:phone', 'phone:emergency',\n",
    "                   'contact:fax', 'Phone', 'phone_1', 'fax')\n",
    "      GROUP BY value\n",
    "      ORDER BY Count DESC) phone_counts\n",
    "GROUP BY Count;"
   ]
  },
  {
   "cell_type": "code",
   "execution_count": 10,
   "metadata": {},
   "outputs": [
    {
     "name": "stdout",
     "output_type": "stream",
     "text": [
      "Done.\n"
     ]
    },
    {
     "data": {
      "text/html": [
       "<table>\n",
       "    <tr>\n",
       "        <th>Count</th>\n",
       "        <th>Frequency</th>\n",
       "    </tr>\n",
       "    <tr>\n",
       "        <td>1</td>\n",
       "        <td>913</td>\n",
       "    </tr>\n",
       "    <tr>\n",
       "        <td>2</td>\n",
       "        <td>17</td>\n",
       "    </tr>\n",
       "    <tr>\n",
       "        <td>3</td>\n",
       "        <td>1</td>\n",
       "    </tr>\n",
       "    <tr>\n",
       "        <td>4</td>\n",
       "        <td>1</td>\n",
       "    </tr>\n",
       "</table>"
      ],
      "text/plain": [
       "[(1, 913), (2, 17), (3, 1), (4, 1)]"
      ]
     },
     "execution_count": 10,
     "metadata": {},
     "output_type": "execute_result"
    }
   ],
   "source": [
    "%%sql\n",
    "SELECT *\n",
    "FROM phone_count_again\n",
    "LIMIT 10;"
   ]
  },
  {
   "cell_type": "code",
   "execution_count": 11,
   "metadata": {},
   "outputs": [
    {
     "name": "stdout",
     "output_type": "stream",
     "text": [
      "Done.\n"
     ]
    },
    {
     "data": {
      "text/html": [
       "<table>\n",
       "    <tr>\n",
       "        <th>Count</th>\n",
       "        <th>Percent of Total</th>\n",
       "    </tr>\n",
       "    <tr>\n",
       "        <td>1</td>\n",
       "        <td>97</td>\n",
       "    </tr>\n",
       "    <tr>\n",
       "        <td>2</td>\n",
       "        <td>1</td>\n",
       "    </tr>\n",
       "    <tr>\n",
       "        <td>3</td>\n",
       "        <td>0</td>\n",
       "    </tr>\n",
       "    <tr>\n",
       "        <td>4</td>\n",
       "        <td>0</td>\n",
       "    </tr>\n",
       "</table>"
      ],
      "text/plain": [
       "[(1, 97), (2, 1), (3, 0), (4, 0)]"
      ]
     },
     "execution_count": 11,
     "metadata": {},
     "output_type": "execute_result"
    }
   ],
   "source": [
    "%%sql\n",
    "SELECT pc1.Count, 100*pc1.Frequency/(SELECT SUM(Frequency) FROM phone_count_again) 'Percent of Total'\n",
    "FROM phone_count_again pc1, phone_count_again pc2\n",
    "WHERE pc1.Count = pc2.Count\n",
    "GROUP BY pc1.Count"
   ]
  },
  {
   "cell_type": "markdown",
   "metadata": {},
   "source": [
    "### Capacity\n",
    "Capacity only had two non-numeric values.  One was had a value of '56 seats' which was mapped to '56', the other erroneously had opening hours, so its key was changed to 'opening_hours'."
   ]
  },
  {
   "cell_type": "code",
   "execution_count": 118,
   "metadata": {},
   "outputs": [
    {
     "name": "stdout",
     "output_type": "stream",
     "text": [
      "Done.\n"
     ]
    },
    {
     "data": {
      "text/html": [
       "<table>\n",
       "    <tr>\n",
       "        <th>Capacity</th>\n",
       "        <th>Count</th>\n",
       "    </tr>\n",
       "    <tr>\n",
       "        <td>2</td>\n",
       "        <td>1244</td>\n",
       "    </tr>\n",
       "    <tr>\n",
       "        <td>5</td>\n",
       "        <td>303</td>\n",
       "    </tr>\n",
       "    <tr>\n",
       "        <td>4</td>\n",
       "        <td>165</td>\n",
       "    </tr>\n",
       "    <tr>\n",
       "        <td>10</td>\n",
       "        <td>60</td>\n",
       "    </tr>\n",
       "    <tr>\n",
       "        <td>7</td>\n",
       "        <td>46</td>\n",
       "    </tr>\n",
       "    <tr>\n",
       "        <td>39</td>\n",
       "        <td>36</td>\n",
       "    </tr>\n",
       "    <tr>\n",
       "        <td>15</td>\n",
       "        <td>29</td>\n",
       "    </tr>\n",
       "    <tr>\n",
       "        <td>31</td>\n",
       "        <td>24</td>\n",
       "    </tr>\n",
       "    <tr>\n",
       "        <td>6</td>\n",
       "        <td>23</td>\n",
       "    </tr>\n",
       "    <tr>\n",
       "        <td>27</td>\n",
       "        <td>21</td>\n",
       "    </tr>\n",
       "</table>"
      ],
      "text/plain": [
       "[('2', 1244),\n",
       " ('5', 303),\n",
       " ('4', 165),\n",
       " ('10', 60),\n",
       " ('7', 46),\n",
       " ('39', 36),\n",
       " ('15', 29),\n",
       " ('31', 24),\n",
       " ('6', 23),\n",
       " ('27', 21)]"
      ]
     },
     "execution_count": 118,
     "metadata": {},
     "output_type": "execute_result"
    }
   ],
   "source": [
    "%%sql\n",
    "SELECT value AS 'Capacity', COUNT(*) AS Count \n",
    "FROM tags\n",
    "WHERE key='capacity'\n",
    "GROUP BY value\n",
    "ORDER BY Count DESC\n",
    "LIMIT 10;"
   ]
  },
  {
   "cell_type": "code",
   "execution_count": 325,
   "metadata": {},
   "outputs": [
    {
     "name": "stdout",
     "output_type": "stream",
     "text": [
      "Done.\n"
     ]
    },
    {
     "data": {
      "text/html": [
       "<table>\n",
       "    <tr>\n",
       "        <th>Maximum</th>\n",
       "    </tr>\n",
       "    <tr>\n",
       "        <td>100</td>\n",
       "    </tr>\n",
       "</table>"
      ],
      "text/plain": [
       "[(100,)]"
      ]
     },
     "execution_count": 325,
     "metadata": {},
     "output_type": "execute_result"
    }
   ],
   "source": [
    "%%sql\n",
    "SELECT MAX(CAST(value AS INT)) AS Maximum\n",
    "FROM tags\n",
    "WHERE key='capacity'\n",
    "LIMIT 10;"
   ]
  },
  {
   "cell_type": "markdown",
   "metadata": {},
   "source": [
    "### Buildings\n",
    "The values for the tag key 'building' were compared to the list of valid values assembled using BeautifulSoup from the OSM Wiki.  The value of 'publib' was a simple typo and was mapped to 'public'.  Some of the values were not valid and could not be mapped to logical alternatives; these were: 'no', 'tower', and 'works'.  The other values needed to have their key changed, as they were incorrectly labeled as buildings, and possibly their value changed as well.  For instance, 'college' and 'courthouse' should have been assigned to the key 'amenity', as should have 'convent', but its value needed to be adjusted to 'monastery'."
   ]
  },
  {
   "cell_type": "code",
   "execution_count": 4,
   "metadata": {},
   "outputs": [
    {
     "name": "stdout",
     "output_type": "stream",
     "text": [
      "Done.\n"
     ]
    },
    {
     "data": {
      "text/html": [
       "<table>\n",
       "    <tr>\n",
       "        <th>Building</th>\n",
       "        <th>Count</th>\n",
       "    </tr>\n",
       "    <tr>\n",
       "        <td>yes</td>\n",
       "        <td>18687</td>\n",
       "    </tr>\n",
       "    <tr>\n",
       "        <td>apartments</td>\n",
       "        <td>421</td>\n",
       "    </tr>\n",
       "    <tr>\n",
       "        <td>commercial</td>\n",
       "        <td>73</td>\n",
       "    </tr>\n",
       "    <tr>\n",
       "        <td>church</td>\n",
       "        <td>67</td>\n",
       "    </tr>\n",
       "    <tr>\n",
       "        <td>school</td>\n",
       "        <td>44</td>\n",
       "    </tr>\n",
       "    <tr>\n",
       "        <td>hotel</td>\n",
       "        <td>31</td>\n",
       "    </tr>\n",
       "    <tr>\n",
       "        <td>office</td>\n",
       "        <td>30</td>\n",
       "    </tr>\n",
       "    <tr>\n",
       "        <td>residential</td>\n",
       "        <td>19</td>\n",
       "    </tr>\n",
       "    <tr>\n",
       "        <td>roof</td>\n",
       "        <td>19</td>\n",
       "    </tr>\n",
       "    <tr>\n",
       "        <td>construction</td>\n",
       "        <td>14</td>\n",
       "    </tr>\n",
       "</table>"
      ],
      "text/plain": [
       "[('yes', 18687),\n",
       " ('apartments', 421),\n",
       " ('commercial', 73),\n",
       " ('church', 67),\n",
       " ('school', 44),\n",
       " ('hotel', 31),\n",
       " ('office', 30),\n",
       " ('residential', 19),\n",
       " ('roof', 19),\n",
       " ('construction', 14)]"
      ]
     },
     "execution_count": 4,
     "metadata": {},
     "output_type": "execute_result"
    }
   ],
   "source": [
    "%%sql\n",
    "SELECT value AS 'Building', COUNT(*) AS Count \n",
    "FROM tags\n",
    "WHERE key='building'\n",
    "GROUP BY value\n",
    "ORDER BY Count DESC\n",
    "LIMIT 10;"
   ]
  },
  {
   "cell_type": "markdown",
   "metadata": {},
   "source": [
    "The vast majority of building tags were only labeled with a 'yes' value to note that a node marks a building."
   ]
  },
  {
   "cell_type": "markdown",
   "metadata": {},
   "source": [
    "### Amenities\n",
    "The values for the tag key 'amenity' were cleaned in a similar fashion to those for 'building'.  Only one value only required a mapping of its value ('training' to 'school').  All others required a mapping of their key and/or value.  Fo instance, 'gym' needed to be changed to 'fitness_centre', but should have been assigned to the key 'leisure'."
   ]
  },
  {
   "cell_type": "code",
   "execution_count": 5,
   "metadata": {},
   "outputs": [
    {
     "name": "stdout",
     "output_type": "stream",
     "text": [
      "Done.\n"
     ]
    },
    {
     "data": {
      "text/html": [
       "<table>\n",
       "    <tr>\n",
       "        <th>Amenity</th>\n",
       "        <th>Count</th>\n",
       "    </tr>\n",
       "    <tr>\n",
       "        <td>bicycle_parking</td>\n",
       "        <td>1961</td>\n",
       "    </tr>\n",
       "    <tr>\n",
       "        <td>restaurant</td>\n",
       "        <td>1011</td>\n",
       "    </tr>\n",
       "    <tr>\n",
       "        <td>cafe</td>\n",
       "        <td>390</td>\n",
       "    </tr>\n",
       "    <tr>\n",
       "        <td>fast_food</td>\n",
       "        <td>277</td>\n",
       "    </tr>\n",
       "    <tr>\n",
       "        <td>bicycle_rental</td>\n",
       "        <td>231</td>\n",
       "    </tr>\n",
       "    <tr>\n",
       "        <td>bar</td>\n",
       "        <td>192</td>\n",
       "    </tr>\n",
       "    <tr>\n",
       "        <td>parking</td>\n",
       "        <td>181</td>\n",
       "    </tr>\n",
       "    <tr>\n",
       "        <td>bank</td>\n",
       "        <td>155</td>\n",
       "    </tr>\n",
       "    <tr>\n",
       "        <td>embassy</td>\n",
       "        <td>147</td>\n",
       "    </tr>\n",
       "    <tr>\n",
       "        <td>bench</td>\n",
       "        <td>140</td>\n",
       "    </tr>\n",
       "</table>"
      ],
      "text/plain": [
       "[('bicycle_parking', 1961),\n",
       " ('restaurant', 1011),\n",
       " ('cafe', 390),\n",
       " ('fast_food', 277),\n",
       " ('bicycle_rental', 231),\n",
       " ('bar', 192),\n",
       " ('parking', 181),\n",
       " ('bank', 155),\n",
       " ('embassy', 147),\n",
       " ('bench', 140)]"
      ]
     },
     "execution_count": 5,
     "metadata": {},
     "output_type": "execute_result"
    }
   ],
   "source": [
    "%%sql\n",
    "SELECT value AS 'Amenity', COUNT(*) AS Count \n",
    "FROM tags\n",
    "WHERE key='amenity'\n",
    "GROUP BY value\n",
    "ORDER BY Count DESC\n",
    "LIMIT 10;"
   ]
  },
  {
   "cell_type": "markdown",
   "metadata": {},
   "source": [
    "### Shop\n",
    "The values for the tag key 'shop' were cleaned in a similar fashion to those for 'building' and 'amenity'.  Four values requied a mapping of their key (e.g. 'car_rental' should have been an 'amenity'), and the rest of those needed to have their value updated (e.g. 'beer' to 'alcohol' and 'mattress' to 'bed'.  One of the values of 'comics', needed to be changed to a value of 'books', but also be given an additional tag with key 'books' and value 'comics'."
   ]
  },
  {
   "cell_type": "code",
   "execution_count": 316,
   "metadata": {},
   "outputs": [
    {
     "name": "stdout",
     "output_type": "stream",
     "text": [
      "Done.\n"
     ]
    },
    {
     "data": {
      "text/html": [
       "<table>\n",
       "    <tr>\n",
       "        <th>Shop</th>\n",
       "        <th>Count</th>\n",
       "    </tr>\n",
       "    <tr>\n",
       "        <td>clothes</td>\n",
       "        <td>214</td>\n",
       "    </tr>\n",
       "    <tr>\n",
       "        <td>convenience</td>\n",
       "        <td>86</td>\n",
       "    </tr>\n",
       "    <tr>\n",
       "        <td>supermarket</td>\n",
       "        <td>73</td>\n",
       "    </tr>\n",
       "    <tr>\n",
       "        <td>bakery</td>\n",
       "        <td>47</td>\n",
       "    </tr>\n",
       "    <tr>\n",
       "        <td>shoes</td>\n",
       "        <td>45</td>\n",
       "    </tr>\n",
       "    <tr>\n",
       "        <td>hairdresser</td>\n",
       "        <td>39</td>\n",
       "    </tr>\n",
       "    <tr>\n",
       "        <td>alcohol</td>\n",
       "        <td>37</td>\n",
       "    </tr>\n",
       "    <tr>\n",
       "        <td>books</td>\n",
       "        <td>34</td>\n",
       "    </tr>\n",
       "    <tr>\n",
       "        <td>deli</td>\n",
       "        <td>32</td>\n",
       "    </tr>\n",
       "    <tr>\n",
       "        <td>dry_cleaning</td>\n",
       "        <td>32</td>\n",
       "    </tr>\n",
       "</table>"
      ],
      "text/plain": [
       "[('clothes', 214),\n",
       " ('convenience', 86),\n",
       " ('supermarket', 73),\n",
       " ('bakery', 47),\n",
       " ('shoes', 45),\n",
       " ('hairdresser', 39),\n",
       " ('alcohol', 37),\n",
       " ('books', 34),\n",
       " ('deli', 32),\n",
       " ('dry_cleaning', 32)]"
      ]
     },
     "execution_count": 316,
     "metadata": {},
     "output_type": "execute_result"
    }
   ],
   "source": [
    "%%sql\n",
    "SELECT value AS 'Shop', COUNT(*) AS Count \n",
    "FROM tags\n",
    "WHERE key='shop'\n",
    "GROUP BY value\n",
    "ORDER BY Count DESC\n",
    "LIMIT 10;"
   ]
  },
  {
   "cell_type": "markdown",
   "metadata": {},
   "source": [
    "### Leisure\n",
    "The values for the tag key 'leisure' were compared to the list of valid values assembled using BeautifulSoup from the OSM Wiki.  The only error was with the value of 'recreation_ground' which should have been assigned to the key 'landuse'."
   ]
  },
  {
   "cell_type": "code",
   "execution_count": 3,
   "metadata": {},
   "outputs": [
    {
     "name": "stdout",
     "output_type": "stream",
     "text": [
      "Done.\n"
     ]
    },
    {
     "data": {
      "text/html": [
       "<table>\n",
       "    <tr>\n",
       "        <th>Leisure</th>\n",
       "        <th>Count</th>\n",
       "    </tr>\n",
       "    <tr>\n",
       "        <td>swimming_pool</td>\n",
       "        <td>2</td>\n",
       "    </tr>\n",
       "    <tr>\n",
       "        <td>fitness_centre</td>\n",
       "        <td>1</td>\n",
       "    </tr>\n",
       "</table>"
      ],
      "text/plain": [
       "[('swimming_pool', 2), ('fitness_centre', 1)]"
      ]
     },
     "execution_count": 3,
     "metadata": {},
     "output_type": "execute_result"
    }
   ],
   "source": [
    "%%sql\n",
    "SELECT value AS 'Leisure', COUNT(*) AS Count \n",
    "FROM tags\n",
    "WHERE key='leisure'\n",
    "GROUP BY value\n",
    "ORDER BY Count DESC;"
   ]
  },
  {
   "cell_type": "markdown",
   "metadata": {},
   "source": [
    "### Cuisine\n",
    "\n",
    "There was a lot of inconsistencies in how values for the key 'cuisine' were represented.  Some values also erroneously included spaces (e.g. 'wine bar', while others were written as though they would have had spaces, but with the spaces replaced with underscores (e.g. 'american,_grilled_cheese,_tater_tots').\n",
    "\n",
    "A list of the official cuisines was assembled from the OSM Wiki using BeautifulSoup.  User defined values are also accepted, so I added some of the values from the map that I thought were also acceptable.\n",
    "\n",
    "First a couple of the values that had to be fully mapped before being split were mapped to corrected values.  Then values were split by any spaces or non-underscore punctuation, since there were many values that had many different cuisines separated by commas, slashes, and semicolons. Then leading underscores were removed, and the values were converted to lowercase and corrected via the mapping. \n",
    "\n",
    "Since there were many values that contained many values (e.g. 'asian;vietnamese;sandwich') and many values were assigned incorrectly to the 'cuisine' key, unlike for other fields a list of dictionaries was returned with each containing both the updated key and value from the update function.  Additionally, instead of keeping the values in an array format, instead the values were split and multiple key value pairs were emitted.\n",
    "\n",
    "For example, 'indian;vegetarian' would be updated to:\n",
    "[{'cuisine': 'indian'},\n",
    "{'diet': 'vegetarian'}]\n",
    "\n",
    "There was also one tag with the key 'cuisine_1' which I reassigned to 'cuisine'."
   ]
  },
  {
   "cell_type": "code",
   "execution_count": 317,
   "metadata": {},
   "outputs": [
    {
     "name": "stdout",
     "output_type": "stream",
     "text": [
      "Done.\n"
     ]
    },
    {
     "data": {
      "text/html": [
       "<table>\n",
       "    <tr>\n",
       "        <th>Cuisine</th>\n",
       "        <th>Count</th>\n",
       "    </tr>\n",
       "    <tr>\n",
       "        <td>coffee_shop</td>\n",
       "        <td>97</td>\n",
       "    </tr>\n",
       "    <tr>\n",
       "        <td>pizza</td>\n",
       "        <td>91</td>\n",
       "    </tr>\n",
       "    <tr>\n",
       "        <td>italian</td>\n",
       "        <td>82</td>\n",
       "    </tr>\n",
       "    <tr>\n",
       "        <td>american</td>\n",
       "        <td>65</td>\n",
       "    </tr>\n",
       "    <tr>\n",
       "        <td>mexican</td>\n",
       "        <td>61</td>\n",
       "    </tr>\n",
       "    <tr>\n",
       "        <td>burger</td>\n",
       "        <td>53</td>\n",
       "    </tr>\n",
       "    <tr>\n",
       "        <td>japanese</td>\n",
       "        <td>44</td>\n",
       "    </tr>\n",
       "    <tr>\n",
       "        <td>chinese</td>\n",
       "        <td>41</td>\n",
       "    </tr>\n",
       "    <tr>\n",
       "        <td>sandwich</td>\n",
       "        <td>39</td>\n",
       "    </tr>\n",
       "    <tr>\n",
       "        <td>indian</td>\n",
       "        <td>36</td>\n",
       "    </tr>\n",
       "</table>"
      ],
      "text/plain": [
       "[('coffee_shop', 97),\n",
       " ('pizza', 91),\n",
       " ('italian', 82),\n",
       " ('american', 65),\n",
       " ('mexican', 61),\n",
       " ('burger', 53),\n",
       " ('japanese', 44),\n",
       " ('chinese', 41),\n",
       " ('sandwich', 39),\n",
       " ('indian', 36)]"
      ]
     },
     "execution_count": 317,
     "metadata": {},
     "output_type": "execute_result"
    }
   ],
   "source": [
    "%%sql\n",
    "SELECT value AS 'Cuisine', COUNT(*) AS Count \n",
    "FROM tags\n",
    "WHERE key='cuisine'\n",
    "GROUP BY value\n",
    "ORDER BY Count DESC\n",
    "LIMIT 10;"
   ]
  },
  {
   "cell_type": "markdown",
   "metadata": {},
   "source": [
    "The types of cuisine that appear the most often in the data set are regional/ethnic cuisines."
   ]
  },
  {
   "cell_type": "code",
   "execution_count": 8,
   "metadata": {},
   "outputs": [
    {
     "name": "stdout",
     "output_type": "stream",
     "text": [
      "Done.\n"
     ]
    },
    {
     "data": {
      "text/html": [
       "<table>\n",
       "    <tr>\n",
       "        <th>Cuisine</th>\n",
       "        <th>Count</th>\n",
       "    </tr>\n",
       "    <tr>\n",
       "        <td>italian</td>\n",
       "        <td>72</td>\n",
       "    </tr>\n",
       "    <tr>\n",
       "        <td>american</td>\n",
       "        <td>60</td>\n",
       "    </tr>\n",
       "    <tr>\n",
       "        <td>pizza</td>\n",
       "        <td>49</td>\n",
       "    </tr>\n",
       "    <tr>\n",
       "        <td>mexican</td>\n",
       "        <td>44</td>\n",
       "    </tr>\n",
       "    <tr>\n",
       "        <td>chinese</td>\n",
       "        <td>38</td>\n",
       "    </tr>\n",
       "    <tr>\n",
       "        <td>japanese</td>\n",
       "        <td>37</td>\n",
       "    </tr>\n",
       "    <tr>\n",
       "        <td>indian</td>\n",
       "        <td>31</td>\n",
       "    </tr>\n",
       "    <tr>\n",
       "        <td>thai</td>\n",
       "        <td>22</td>\n",
       "    </tr>\n",
       "    <tr>\n",
       "        <td>asian</td>\n",
       "        <td>19</td>\n",
       "    </tr>\n",
       "    <tr>\n",
       "        <td>burger</td>\n",
       "        <td>19</td>\n",
       "    </tr>\n",
       "</table>"
      ],
      "text/plain": [
       "[('italian', 72),\n",
       " ('american', 60),\n",
       " ('pizza', 49),\n",
       " ('mexican', 44),\n",
       " ('chinese', 38),\n",
       " ('japanese', 37),\n",
       " ('indian', 31),\n",
       " ('thai', 22),\n",
       " ('asian', 19),\n",
       " ('burger', 19)]"
      ]
     },
     "execution_count": 8,
     "metadata": {},
     "output_type": "execute_result"
    }
   ],
   "source": [
    "%%sql\n",
    "-- The most popular cuisines among restaurants\n",
    "SELECT value AS 'Cuisine', COUNT(*) AS Count \n",
    "FROM tags\n",
    "WHERE key='cuisine' and id in (SELECT id\n",
    "                               FROM tags\n",
    "                               WHERE key='amenity' and value='restaurant')\n",
    "GROUP BY value\n",
    "ORDER BY Count DESC\n",
    "LIMIT 10;"
   ]
  },
  {
   "cell_type": "code",
   "execution_count": 7,
   "metadata": {},
   "outputs": [
    {
     "name": "stdout",
     "output_type": "stream",
     "text": [
      "Done.\n"
     ]
    },
    {
     "data": {
      "text/html": [
       "<table>\n",
       "    <tr>\n",
       "        <th>Cuisine</th>\n",
       "        <th>Count</th>\n",
       "    </tr>\n",
       "    <tr>\n",
       "        <td>pizza</td>\n",
       "        <td>39</td>\n",
       "    </tr>\n",
       "    <tr>\n",
       "        <td>burger</td>\n",
       "        <td>29</td>\n",
       "    </tr>\n",
       "    <tr>\n",
       "        <td>sandwich</td>\n",
       "        <td>23</td>\n",
       "    </tr>\n",
       "    <tr>\n",
       "        <td>mexican</td>\n",
       "        <td>15</td>\n",
       "    </tr>\n",
       "    <tr>\n",
       "        <td>asian</td>\n",
       "        <td>5</td>\n",
       "    </tr>\n",
       "    <tr>\n",
       "        <td>chicken</td>\n",
       "        <td>5</td>\n",
       "    </tr>\n",
       "    <tr>\n",
       "        <td>indian</td>\n",
       "        <td>5</td>\n",
       "    </tr>\n",
       "    <tr>\n",
       "        <td>american</td>\n",
       "        <td>4</td>\n",
       "    </tr>\n",
       "    <tr>\n",
       "        <td>crepe</td>\n",
       "        <td>4</td>\n",
       "    </tr>\n",
       "    <tr>\n",
       "        <td>mediterranean</td>\n",
       "        <td>4</td>\n",
       "    </tr>\n",
       "</table>"
      ],
      "text/plain": [
       "[('pizza', 39),\n",
       " ('burger', 29),\n",
       " ('sandwich', 23),\n",
       " ('mexican', 15),\n",
       " ('asian', 5),\n",
       " ('chicken', 5),\n",
       " ('indian', 5),\n",
       " ('american', 4),\n",
       " ('crepe', 4),\n",
       " ('mediterranean', 4)]"
      ]
     },
     "execution_count": 7,
     "metadata": {},
     "output_type": "execute_result"
    }
   ],
   "source": [
    "%%sql\n",
    "-- The most popular cuisines among fast food restaurants\n",
    "SELECT value AS 'Cuisine', COUNT(*) AS Count \n",
    "FROM tags\n",
    "WHERE key='cuisine' and id in (SELECT id\n",
    "                               FROM tags\n",
    "                               WHERE key='amenity' and value='fast_food')\n",
    "GROUP BY value\n",
    "ORDER BY Count DESC\n",
    "LIMIT 10;"
   ]
  }
 ],
 "metadata": {
  "kernelspec": {
   "display_name": "Python 3",
   "language": "python",
   "name": "python3"
  },
  "language_info": {
   "codemirror_mode": {
    "name": "ipython",
    "version": 3
   },
   "file_extension": ".py",
   "mimetype": "text/x-python",
   "name": "python",
   "nbconvert_exporter": "python",
   "pygments_lexer": "ipython3",
   "version": "3.6.3"
  }
 },
 "nbformat": 4,
 "nbformat_minor": 2
}
