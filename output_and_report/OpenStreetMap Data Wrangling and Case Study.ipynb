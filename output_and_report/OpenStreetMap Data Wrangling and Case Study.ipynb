{
 "cells": [
  {
   "cell_type": "markdown",
   "metadata": {},
   "source": [
    "# OpenStreetMap Data Wrangling and Case Study\n",
    "***\n",
    "***"
   ]
  },
  {
   "cell_type": "markdown",
   "metadata": {},
   "source": [
    "## Map Area\n",
    "The data covers all of lower Manhattan (south of about 40th Street) and parts of Brooklyn including portions of DUMBO, Vinegar Hill, Navy Yard, and Williamsburg.  The area is between 40.7562 and 40.6976 latitude and -74.0199 and -73.9661 longitude."
   ]
  },
  {
   "cell_type": "markdown",
   "metadata": {
    "collapsed": true
   },
   "source": [
    "<img src = \"map_area.png\">"
   ]
  },
  {
   "cell_type": "code",
   "execution_count": 2,
   "metadata": {},
   "outputs": [
    {
     "data": {
      "text/plain": [
       "'Connected: None@osm.db'"
      ]
     },
     "execution_count": 2,
     "metadata": {},
     "output_type": "execute_result"
    }
   ],
   "source": [
    "%load_ext sql\n",
    "%sql sqlite:///osm.db"
   ]
  },
  {
   "cell_type": "markdown",
   "metadata": {},
   "source": [
    "There are three types of entities in the map: nodes, ways, and relations.  In addition, nodes have tags, ways have tags and nodes, and relations have members and tags.  Each of these are represented in a separate table.  The vast majority of the interesting data lies within the tags."
   ]
  },
  {
   "cell_type": "code",
   "execution_count": 2,
   "metadata": {},
   "outputs": [
    {
     "name": "stdout",
     "output_type": "stream",
     "text": [
      "Done.\n"
     ]
    },
    {
     "data": {
      "text/html": [
       "<table>\n",
       "    <tr>\n",
       "        <th>name</th>\n",
       "    </tr>\n",
       "    <tr>\n",
       "        <td>Node</td>\n",
       "    </tr>\n",
       "    <tr>\n",
       "        <td>NodeTag</td>\n",
       "    </tr>\n",
       "    <tr>\n",
       "        <td>Relation</td>\n",
       "    </tr>\n",
       "    <tr>\n",
       "        <td>RelationMember</td>\n",
       "    </tr>\n",
       "    <tr>\n",
       "        <td>RelationTag</td>\n",
       "    </tr>\n",
       "    <tr>\n",
       "        <td>Way</td>\n",
       "    </tr>\n",
       "    <tr>\n",
       "        <td>WayNode</td>\n",
       "    </tr>\n",
       "    <tr>\n",
       "        <td>WayTag</td>\n",
       "    </tr>\n",
       "</table>"
      ],
      "text/plain": [
       "[('Node',),\n",
       " ('NodeTag',),\n",
       " ('Relation',),\n",
       " ('RelationMember',),\n",
       " ('RelationTag',),\n",
       " ('Way',),\n",
       " ('WayNode',),\n",
       " ('WayTag',)]"
      ]
     },
     "execution_count": 2,
     "metadata": {},
     "output_type": "execute_result"
    }
   ],
   "source": [
    "%%sql\n",
    "SELECT name\n",
    "FROM sqlite_master\n",
    "WHERE type='table'\n",
    "ORDER BY name;"
   ]
  },
  {
   "cell_type": "code",
   "execution_count": null,
   "metadata": {
    "collapsed": true
   },
   "outputs": [],
   "source": [
    "# Get the most frequent users, repeat users\n",
    "# Get additions by month"
   ]
  },
  {
   "cell_type": "code",
   "execution_count": null,
   "metadata": {
    "collapsed": true
   },
   "outputs": [],
   "source": [
    "%%sql\n",
    "CREATE VIEW tags AS\n",
    "SELECT * FROM NodeTag \n",
    "UNION ALL\n",
    "SELECT * FROM WayTag\n",
    "UNION ALL\n",
    "SELECT * FROM RelationTag;"
   ]
  },
  {
   "cell_type": "markdown",
   "metadata": {},
   "source": [
    "## Clean Tag Fields\n",
    "Investigated key fields that were found to be clean:\n",
    "* addr:district\n",
    "* addr:door\n",
    "* addr:interpolation\n",
    "* addr:suburb\n",
    "* addr:suite\n",
    "* building:colour\n",
    "* delivery\n",
    "* maxspeed\n",
    "* oneway\n",
    "* roof:colour\n",
    "* roof:shape\n",
    "\n",
    "The values for these keys were found to belong to the list of acceptable values as defined by the OSM Wiki."
   ]
  },
  {
   "cell_type": "code",
   "execution_count": 13,
   "metadata": {},
   "outputs": [
    {
     "name": "stdout",
     "output_type": "stream",
     "text": [
      "Done.\n"
     ]
    },
    {
     "data": {
      "text/html": [
       "<table>\n",
       "    <tr>\n",
       "        <th>Maximum Speed</th>\n",
       "        <th>Count</th>\n",
       "    </tr>\n",
       "    <tr>\n",
       "        <td>25 mph</td>\n",
       "        <td>1624</td>\n",
       "    </tr>\n",
       "    <tr>\n",
       "        <td>35 mph</td>\n",
       "        <td>113</td>\n",
       "    </tr>\n",
       "    <tr>\n",
       "        <td>20 mph</td>\n",
       "        <td>66</td>\n",
       "    </tr>\n",
       "    <tr>\n",
       "        <td>40 mph</td>\n",
       "        <td>41</td>\n",
       "    </tr>\n",
       "    <tr>\n",
       "        <td>30 mph</td>\n",
       "        <td>30</td>\n",
       "    </tr>\n",
       "    <tr>\n",
       "        <td>45 mph</td>\n",
       "        <td>25</td>\n",
       "    </tr>\n",
       "    <tr>\n",
       "        <td>5 mph</td>\n",
       "        <td>5</td>\n",
       "    </tr>\n",
       "</table>"
      ],
      "text/plain": [
       "[('25 mph', 1624),\n",
       " ('35 mph', 113),\n",
       " ('20 mph', 66),\n",
       " ('40 mph', 41),\n",
       " ('30 mph', 30),\n",
       " ('45 mph', 25),\n",
       " ('5 mph', 5)]"
      ]
     },
     "execution_count": 13,
     "metadata": {},
     "output_type": "execute_result"
    }
   ],
   "source": [
    "%%sql\n",
    "SELECT value AS 'Maximum Speed', COUNT(*) AS Count \n",
    "FROM tags\n",
    "WHERE key='maxspeed'\n",
    "GROUP BY value\n",
    "ORDER BY Count DESC\n",
    "LIMIT 20;"
   ]
  },
  {
   "cell_type": "markdown",
   "metadata": {},
   "source": [
    "## Problems Encountered in the Map Data\n",
    "\n",
    "Fields with known problems:\n",
    "* zip code (addr:postcode, postal_code)\n",
    "* street (addr:street)\n",
    "* city (addr:city)\n",
    "* state (addr:state)\n",
    "* country (addr:country)\n",
    "* phone number (phone, contact:phone, phone:emergency, contact:fax, Phone, phone_1, fax)"
   ]
  },
  {
   "cell_type": "markdown",
   "metadata": {},
   "source": [
    "Fields cleaned with simple mapping either of only values:\n",
    "* roof:material\n",
    "* building:material\n",
    "* height\n",
    "* min_height\n",
    "* nycdoitt:bin\n",
    "* building:part\n",
    "* building:levels\n",
    "* highway\n",
    "* addr:floor\n",
    "\n",
    "Fields cleaned with simple mapping either of only keys:\n",
    "* leisure\n",
    "\n",
    "Fields cleaned with mapping keys and values:\n",
    "* addr:place\n",
    "* capacity\n",
    "\n"
   ]
  },
  {
   "cell_type": "markdown",
   "metadata": {},
   "source": [
    "### Zip Codes\n",
    "Postcodes were represented inconsistently in the data for the 'addr:postcode'.  Some included a prefix of NY or were in the ZIP+4 format.  These zip codes were fixed programmatically using regular expressions.\n",
    "\n",
    "I also manually assembled a list of valid zip codes for the areas included in the map.  Some postcodes in the data set were not present in the list.  For instance, 10023, which represents the Lincoln Square area of Manhattan, was erroneously assigned to an address near City Hall.  These zip codes were manually corrected with a dictionary mapping.  Typos in postcodes, such as ‘100014’ which has six digits, were also corrected manually.\n",
    "\n",
    "Example errors in zip codes:\n",
    "* 'NY 10007'\n",
    "* '10002-1013'\n",
    "* '100014'\n",
    "* '10023'\n",
    "\n",
    "The postcodes in the 'postal_code' were clean, but needed to have their key changed to 'addr:postcode'."
   ]
  },
  {
   "cell_type": "code",
   "execution_count": 4,
   "metadata": {
    "scrolled": true
   },
   "outputs": [
    {
     "name": "stdout",
     "output_type": "stream",
     "text": [
      "Done.\n"
     ]
    },
    {
     "data": {
      "text/html": [
       "<table>\n",
       "    <tr>\n",
       "        <th>Zip Code</th>\n",
       "        <th>Count</th>\n",
       "    </tr>\n",
       "    <tr>\n",
       "        <td>10011</td>\n",
       "        <td>2824</td>\n",
       "    </tr>\n",
       "    <tr>\n",
       "        <td>10003</td>\n",
       "        <td>2563</td>\n",
       "    </tr>\n",
       "    <tr>\n",
       "        <td>10014</td>\n",
       "        <td>2556</td>\n",
       "    </tr>\n",
       "    <tr>\n",
       "        <td>10002</td>\n",
       "        <td>2494</td>\n",
       "    </tr>\n",
       "    <tr>\n",
       "        <td>10013</td>\n",
       "        <td>2175</td>\n",
       "    </tr>\n",
       "    <tr>\n",
       "        <td>10016</td>\n",
       "        <td>1925</td>\n",
       "    </tr>\n",
       "    <tr>\n",
       "        <td>10009</td>\n",
       "        <td>1685</td>\n",
       "    </tr>\n",
       "    <tr>\n",
       "        <td>10001</td>\n",
       "        <td>1666</td>\n",
       "    </tr>\n",
       "    <tr>\n",
       "        <td>10012</td>\n",
       "        <td>1570</td>\n",
       "    </tr>\n",
       "    <tr>\n",
       "        <td>10010</td>\n",
       "        <td>971</td>\n",
       "    </tr>\n",
       "</table>"
      ],
      "text/plain": [
       "[('10011', 2824),\n",
       " ('10003', 2563),\n",
       " ('10014', 2556),\n",
       " ('10002', 2494),\n",
       " ('10013', 2175),\n",
       " ('10016', 1925),\n",
       " ('10009', 1685),\n",
       " ('10001', 1666),\n",
       " ('10012', 1570),\n",
       " ('10010', 971)]"
      ]
     },
     "execution_count": 4,
     "metadata": {},
     "output_type": "execute_result"
    }
   ],
   "source": [
    "%%sql\n",
    "SELECT value AS 'Zip Code', COUNT(*) AS Count \n",
    "FROM tags\n",
    "WHERE key='addr:postcode'\n",
    "GROUP BY value\n",
    "ORDER BY Count DESC\n",
    "LIMIT 10;"
   ]
  },
  {
   "cell_type": "markdown",
   "metadata": {},
   "source": [
    "### Address Unit\n",
    "There were only a few values that were non-numeric and hence not valid values for the key of 'addr:unit'.  For these values, if value contained 'Suite' then the key was changed to 'addr:suite' and the number was extracted and assigned to the value (similar for those that contain floor).  For all other values, the number was extracted and emitted.  In all cases, regular expressions were used.\n",
    "\n",
    "Example errors in 'addr:unit':\n",
    "* 'Suite #1'\n",
    "* '19th Floor'\n",
    "* 'Suite 8500'\n",
    "* '#37'"
   ]
  },
  {
   "cell_type": "markdown",
   "metadata": {},
   "source": [
    "### Street\n",
    "Out of the fields I investigated, 'addr:street' had the most problems.  There were problems with, and including examples:\n",
    "* abbreviations of street types (e.g. St., Ave)\n",
    "* no street types (e.g. Old Fulton)\n",
    "* abbreviations of directions (e.g. S., E)\n",
    "* inconsistency in numbered streets (Second Avenue vs. 2nd Avenue)\n",
    "* including housenumbers\n",
    "* including suite numbers\n",
    "* including city\n",
    "* including state\n",
    "* including floor\n",
    "* including zip code\n",
    "* inconsistent capitalization (Avenue Of The Americas vs. Avenue of the Americas)\n",
    "* wrong or no contraction on ordinal numbers (12nd Street, 31 Street)\n",
    "* unnecessary appostrophes (e.g. Saint Mark's Place)\n",
    "* wrong or inconsistent spacing (Laguardia Place vs. La Guardia Place)\n",
    "* not valid streets (e.g. Gramery Park, World Trade Center)\n",
    "\n",
    "\n",
    "Example errors in addr:street:\n",
    "* '109 East 42nd Street'\n",
    "* '10th Ave #2E'\n",
    "* '230th East 51st Street'\n",
    "* '334 Furman St, Brooklyn'\n",
    "* '400th West 20th St., Suite 2N'\n",
    "* '54 W 39th St New York, NY'\n",
    "* 'E. 4th Street'\n",
    "* 'Highline'\n",
    "\n",
    "First all streets were changed to title case apart from some exceptions that should remain completely capitalized, like 'FDR Drive', and those like 'of' and 'the' that should be lowercase when not appearing as the first word.  After fully auditing, some of the streets were found to be completely invalid, like 'Track' and 'Washington Square Village'.  Values of None were emitted for these streets, and so were effectively removed from the data.  At this point there was a collection of streets that could not be corrected programmatically, and so were updated using a dictionary mapping.  These included '85th West Street' being changed to 'West 85th Street' and '29th' to '29th Street'.\n",
    "\n",
    "The rest of the cities, if they were not in the previously mentioned mapping, were corrected mostly using regular expressions.  If the city, like 'New York' or 'Brooklyn' was present, that was removed from the street and was returned as the value for 'addr:city' tag key.  Then, commas were removed from the data set.  Regular expressions and a mapping were used to replace abbreviated directions for North, South, East, and West with their longer counterpart.  If a floor, suite, zip code, or housenumber was present these were removed from the street and were assigned to the 'addr:floor', 'addr:suite', 'addr:postcode', or 'addr:housenumber' tag key, respectively.  Regular expressions were used to find numbered streets that didn't use numbers to represent them (e.g. Fourth as opposed to 4th).  These were then replaced using a mapping to their numbered equivalent.  Finally, the street type (e.g. Street, Road, Place) was extracted using regular expressions, and it was replaced using a mapping if it was an abbreviation.\n",
    "\n",
    "```python\n",
    "def update_street(s):\n",
    "    s = title_case(s, ['fdr', 'un'], ['of', 'the'])\n",
    "\n",
    "    if s in invalid_streets:\n",
    "        return None\n",
    "    if s in full_street_mapping:\n",
    "        s = full_street_mapping[s]    \n",
    "    \n",
    "    s = remove_city(s)\n",
    "    s = remove_commas(s)\n",
    "    \n",
    "    # Fix directional abbreviations\n",
    "    s = re.sub('[\\s]*W[\\.]*[\\s]+', ' West ', s).strip()\n",
    "    s = re.sub('[\\s]*E[\\.]*[\\s]+', ' East ', s).strip()\n",
    "    s = re.sub('[\\s]*S[\\.]*$', ' South', s).strip()\n",
    "    \n",
    "    s = remove_floor(s)\n",
    "    s = remove_suite(s)\n",
    "    s = remove_postcode(s)\n",
    "    s = remove_housenumber(s)\n",
    "    s = update_non_number(s)\n",
    "    \n",
    "    st_type = get_street_type(s)\n",
    "    if st_type in street_type_mapping:\n",
    "        s = re.sub(st_type, street_type_mapping[st_type], s)\n",
    "    return s.strip()\n",
    "```\n",
    "\n",
    "'State Street & Water Street' was the only value for 'addr:street' that included more than one street.  This was the address for SeaGlass Carousel in The Battery.  Since both Google Maps and their official site list their address using both streets, I decided to keep both."
   ]
  },
  {
   "cell_type": "code",
   "execution_count": 7,
   "metadata": {},
   "outputs": [
    {
     "name": "stdout",
     "output_type": "stream",
     "text": [
      "Done.\n"
     ]
    },
    {
     "data": {
      "text/html": [
       "<table>\n",
       "    <tr>\n",
       "        <th>Street</th>\n",
       "        <th>Count</th>\n",
       "    </tr>\n",
       "    <tr>\n",
       "        <td>Broadway</td>\n",
       "        <td>616</td>\n",
       "    </tr>\n",
       "    <tr>\n",
       "        <td>2nd Avenue</td>\n",
       "        <td>482</td>\n",
       "    </tr>\n",
       "    <tr>\n",
       "        <td>3rd Avenue</td>\n",
       "        <td>392</td>\n",
       "    </tr>\n",
       "    <tr>\n",
       "        <td>8th Avenue</td>\n",
       "        <td>343</td>\n",
       "    </tr>\n",
       "    <tr>\n",
       "        <td>1st Avenue</td>\n",
       "        <td>326</td>\n",
       "    </tr>\n",
       "    <tr>\n",
       "        <td>5th Avenue</td>\n",
       "        <td>295</td>\n",
       "    </tr>\n",
       "    <tr>\n",
       "        <td>6th Avenue</td>\n",
       "        <td>291</td>\n",
       "    </tr>\n",
       "    <tr>\n",
       "        <td>Grand Street</td>\n",
       "        <td>260</td>\n",
       "    </tr>\n",
       "    <tr>\n",
       "        <td>The Bowery</td>\n",
       "        <td>248</td>\n",
       "    </tr>\n",
       "    <tr>\n",
       "        <td>Canal Street</td>\n",
       "        <td>242</td>\n",
       "    </tr>\n",
       "</table>"
      ],
      "text/plain": [
       "[('Broadway', 616),\n",
       " ('2nd Avenue', 482),\n",
       " ('3rd Avenue', 392),\n",
       " ('8th Avenue', 343),\n",
       " ('1st Avenue', 326),\n",
       " ('5th Avenue', 295),\n",
       " ('6th Avenue', 291),\n",
       " ('Grand Street', 260),\n",
       " ('The Bowery', 248),\n",
       " ('Canal Street', 242)]"
      ]
     },
     "execution_count": 7,
     "metadata": {},
     "output_type": "execute_result"
    }
   ],
   "source": [
    "%%sql\n",
    "SELECT value AS 'Street', COUNT(*) AS Count \n",
    "FROM tags\n",
    "WHERE key='addr:street'\n",
    "GROUP BY value\n",
    "ORDER BY Count DESC\n",
    "LIMIT 10;"
   ]
  },
  {
   "cell_type": "markdown",
   "metadata": {},
   "source": [
    "It is unsurprising that these are the streets that appear most frequently in the dataset; besides that there are an abundance of landmarks on Broadway, it along with the Avenues are the longest streets in Manhattan (being much longer than their cross streets)."
   ]
  },
  {
   "cell_type": "code",
   "execution_count": 6,
   "metadata": {},
   "outputs": [
    {
     "name": "stdout",
     "output_type": "stream",
     "text": [
      "Done.\n"
     ]
    },
    {
     "data": {
      "text/html": [
       "<table>\n",
       "    <tr>\n",
       "        <th>Street</th>\n",
       "        <th>Count</th>\n",
       "    </tr>\n",
       "    <tr>\n",
       "        <td>Grand Street</td>\n",
       "        <td>260</td>\n",
       "    </tr>\n",
       "    <tr>\n",
       "        <td>Canal Street</td>\n",
       "        <td>242</td>\n",
       "    </tr>\n",
       "    <tr>\n",
       "        <td>West 22nd Street</td>\n",
       "        <td>242</td>\n",
       "    </tr>\n",
       "    <tr>\n",
       "        <td>East 14th Street</td>\n",
       "        <td>241</td>\n",
       "    </tr>\n",
       "    <tr>\n",
       "        <td>Greenwich Street</td>\n",
       "        <td>230</td>\n",
       "    </tr>\n",
       "    <tr>\n",
       "        <td>Bleecker Street</td>\n",
       "        <td>223</td>\n",
       "    </tr>\n",
       "    <tr>\n",
       "        <td>East 10th Street</td>\n",
       "        <td>222</td>\n",
       "    </tr>\n",
       "    <tr>\n",
       "        <td>West 20th Street</td>\n",
       "        <td>217</td>\n",
       "    </tr>\n",
       "    <tr>\n",
       "        <td>Hudson Street</td>\n",
       "        <td>211</td>\n",
       "    </tr>\n",
       "    <tr>\n",
       "        <td>West 11th Street</td>\n",
       "        <td>209</td>\n",
       "    </tr>\n",
       "</table>"
      ],
      "text/plain": [
       "[('Grand Street', 260),\n",
       " ('Canal Street', 242),\n",
       " ('West 22nd Street', 242),\n",
       " ('East 14th Street', 241),\n",
       " ('Greenwich Street', 230),\n",
       " ('Bleecker Street', 223),\n",
       " ('East 10th Street', 222),\n",
       " ('West 20th Street', 217),\n",
       " ('Hudson Street', 211),\n",
       " ('West 11th Street', 209)]"
      ]
     },
     "execution_count": 6,
     "metadata": {},
     "output_type": "execute_result"
    }
   ],
   "source": [
    "%%sql\n",
    "SELECT value AS 'Street', COUNT(*) AS Count \n",
    "FROM tags\n",
    "WHERE key='addr:street' and value LIKE '% Street'\n",
    "GROUP BY value\n",
    "ORDER BY Count DESC\n",
    "LIMIT 10;"
   ]
  },
  {
   "cell_type": "markdown",
   "metadata": {},
   "source": [
    "MAKE BETTERThe top ten streets have very similar frequencies, most likely since these streets are all ********** in length."
   ]
  },
  {
   "cell_type": "code",
   "execution_count": 31,
   "metadata": {},
   "outputs": [
    {
     "name": "stdout",
     "output_type": "stream",
     "text": [
      "Done.\n"
     ]
    },
    {
     "data": {
      "text/html": [
       "<table>\n",
       "    <tr>\n",
       "        <th>Street</th>\n",
       "        <th>Count</th>\n",
       "    </tr>\n",
       "    <tr>\n",
       "        <td>Henry Street</td>\n",
       "        <td>12</td>\n",
       "    </tr>\n",
       "    <tr>\n",
       "        <td>Willow Street</td>\n",
       "        <td>9</td>\n",
       "    </tr>\n",
       "    <tr>\n",
       "        <td>Water Street</td>\n",
       "        <td>6</td>\n",
       "    </tr>\n",
       "    <tr>\n",
       "        <td>Front Street</td>\n",
       "        <td>5</td>\n",
       "    </tr>\n",
       "    <tr>\n",
       "        <td>Columbia Heights</td>\n",
       "        <td>4</td>\n",
       "    </tr>\n",
       "    <tr>\n",
       "        <td>Clark Street</td>\n",
       "        <td>3</td>\n",
       "    </tr>\n",
       "    <tr>\n",
       "        <td>Hicks Street</td>\n",
       "        <td>3</td>\n",
       "    </tr>\n",
       "    <tr>\n",
       "        <td>Jay Street</td>\n",
       "        <td>3</td>\n",
       "    </tr>\n",
       "    <tr>\n",
       "        <td>Main Street</td>\n",
       "        <td>3</td>\n",
       "    </tr>\n",
       "    <tr>\n",
       "        <td>Old Fulton Street</td>\n",
       "        <td>3</td>\n",
       "    </tr>\n",
       "</table>"
      ],
      "text/plain": [
       "[('Henry Street', 12),\n",
       " ('Willow Street', 9),\n",
       " ('Water Street', 6),\n",
       " ('Front Street', 5),\n",
       " ('Columbia Heights', 4),\n",
       " ('Clark Street', 3),\n",
       " ('Hicks Street', 3),\n",
       " ('Jay Street', 3),\n",
       " ('Main Street', 3),\n",
       " ('Old Fulton Street', 3)]"
      ]
     },
     "execution_count": 31,
     "metadata": {},
     "output_type": "execute_result"
    }
   ],
   "source": [
    "%%sql\n",
    "--Most popular streets in the Brooklyn part of map\n",
    "\n",
    "SELECT value AS 'Street', COUNT(*) AS Count \n",
    "FROM tags\n",
    "WHERE key='addr:street' and id in (SELECT id\n",
    "                                   FROM tags\n",
    "                                   WHERE key='addr:city' and value='Brooklyn')\n",
    "GROUP BY value\n",
    "ORDER BY Count DESC\n",
    "LIMIT 10;"
   ]
  },
  {
   "cell_type": "markdown",
   "metadata": {},
   "source": [
    "### Cities"
   ]
  },
  {
   "cell_type": "markdown",
   "metadata": {},
   "source": [
    "There was inconsistency with how cities were represented.  The only two acceptable cities are New York and Brooklyn.  The addr:city tags erroneously included the state, referred to the neighborhood as opposed to the city, and had capitalization inconsistencies.  All those referring to New York, Manhattan, and its neighborhoods were mapped to New York; there were no problems with those marked 'Brooklyn.'\n",
    "\n",
    "Example errors in city:\n",
    "* 'Manhattan NYC'\n",
    "* 'NEW YORK CITY'\n",
    "* 'New York City'\n",
    "* 'New York, NY'\n",
    "* 'Tribeca'\n",
    "* 'York City'\n",
    "* 'new york'"
   ]
  },
  {
   "cell_type": "code",
   "execution_count": 5,
   "metadata": {},
   "outputs": [
    {
     "name": "stdout",
     "output_type": "stream",
     "text": [
      "Done.\n"
     ]
    },
    {
     "data": {
      "text/html": [
       "<table>\n",
       "    <tr>\n",
       "        <th>City</th>\n",
       "        <th>Count</th>\n",
       "    </tr>\n",
       "    <tr>\n",
       "        <td>New York</td>\n",
       "        <td>3316</td>\n",
       "    </tr>\n",
       "    <tr>\n",
       "        <td>Brooklyn</td>\n",
       "        <td>77</td>\n",
       "    </tr>\n",
       "</table>"
      ],
      "text/plain": [
       "[('New York', 3316), ('Brooklyn', 77)]"
      ]
     },
     "execution_count": 5,
     "metadata": {},
     "output_type": "execute_result"
    }
   ],
   "source": [
    "%%sql\n",
    "SELECT value AS 'City', COUNT(*) AS Count \n",
    "FROM tags\n",
    "WHERE key='addr:city'\n",
    "GROUP BY value\n",
    "ORDER BY Count DESC\n",
    "LIMIT 10;"
   ]
  },
  {
   "cell_type": "markdown",
   "metadata": {},
   "source": [
    "###  States\n",
    "Almost all of the values for addr:state were 'NY' with only the errors being those listed below.\n",
    "\n",
    "Errors in state:\n",
    "* '10009'\n",
    "* 'New York'\n",
    "* 'New York State'\n",
    "* 'ny'\n",
    "\n",
    "Since 'NY' is the only valid value, a function is not required and all values for the key 'addr:state' were assigned to 'NY'."
   ]
  },
  {
   "cell_type": "markdown",
   "metadata": {},
   "source": [
    "### Countries\n",
    "453 of the values for the key addr:country were 'US', with only five being 'USA'.  These were corrected with a simple mapping."
   ]
  },
  {
   "cell_type": "markdown",
   "metadata": {},
   "source": [
    "### Full Address\n",
    "There were three appearances of the 'addr:full' key in the data.  This tag key is only meant to be used when the address cannot be stated using the structured address fields.\n",
    "\n",
    "The first value: '20 Jay Street #842, Brooklyn, New York 11201' did not meet this criteria.  Furthermore, this address also included all of the structured address tags (e.g. 'addr:housenumber' = '20').  The only tag it was missing was for 'addr:suite', which I added to the addtl_tags dictionary, so that it may be assigned to this address' tags.\n",
    "\n",
    "The next value, '42nd Street Between 7th Avenue and Broadway' is for the Times Square Ball.  This address did not include any of the structured address tags.  This full address value was also unnecessary, since it has a well defined address at the top of One Times Square, also known as 1475 Broadway.  So, I added the appropriate values for housenumber, street, city, state, and postcode to addtl_tags.\n",
    "\n",
    "The last value was for Bryant Park at 'Between 40th and 42nd Streets at 6th Avenue'.  I changed this to '6th Avenue between 40th and 42nd Streets', so that it had the between streets at the end of the address.  This address had all of the appropriate structured address tags."
   ]
  },
  {
   "cell_type": "markdown",
   "metadata": {},
   "source": [
    "### Phone Numbers\n",
    "According to the OSM Wiki phones must be represented as a plus sign, country code, area code, local number all either separated by dashes or by spaces; I chose to use dashes.\n",
    "\n",
    "Phone numbers were represented in a variety of ways, including with no spaces or dashes, no country code, with parentheses, using periods, extensions, or with multiple phone numbers.  Only the first phone number was emitted and no extensions were included in the updated numbers.\n",
    "\n",
    "Example errors in phone numbers:\n",
    "* '7188753700'\n",
    "* '917 639 3089'\n",
    "* '646) 205-7782'\n",
    "* '2127547403#100,107,108,109'\n",
    "* '212.229.2226'\n",
    "* '1 (646) 598-0100'\n",
    "* '001 646-6740001'\n",
    "* '+12127777702'\n",
    "\n",
    "Some phone numbers started correctly with the +1 country code for the United States, others only included the 1, others started with 001 (which is the exit code for most countries and how the +1 is dialed on phones that do not have the plus sign capability), and others did not include any part of the country code.\n",
    "\n",
    "Values for the 'phone', 'contact:phone', 'phone:emergency', 'contact:fax', 'Phone', and 'phone_1' tags were updated using the code below.  In addition, the tag keys for 'Phone' and 'phone_1' were corrected to 'phone'.\n",
    "\n",
    "\n",
    "```python\n",
    "def is_valid_phone(phone):\n",
    "    r = re.compile(r'^\\+1-\\d{3}-\\d{3}-\\d{4}$')\n",
    "    if r.match(phone) is not None:        \n",
    "        return True\n",
    "    else:\n",
    "        return False\n",
    "\n",
    "# Use this to clean all phone number tag fields:\n",
    "# contact:phone, Phone, phone_1, phone:emergency, fax, contact:fax\n",
    "def update_phone(phone):\n",
    "    \"\"\"Returns the cleaned version of the phone number, and only returns\n",
    "    the first phone number listed\"\"\"\n",
    "    # replace multiple spaces with one space\n",
    "    phone = re.sub('\\s+', '', phone).strip()\n",
    "    for ch in ['(',')','.','-']:\n",
    "        phone = phone.replace(ch, '')\n",
    "    \n",
    "    if phone.startswith('001'):\n",
    "        phone = '+' + phone[2:]\n",
    "    if not phone.startswith('+'):\n",
    "        phone = '+' + phone\n",
    "    if phone[1] != '1':\n",
    "        phone = phone[0] + '1' + phone[1:]\n",
    "    \n",
    "    phone = phone[0:2] + '-' + phone[2:5] + '-' + phone[5:8] + '-' + phone[8:]\n",
    "    \n",
    "    # Do not return second phone numbers or extensions\n",
    "    phone = phone[0:15]\n",
    "    \n",
    "    if is_valid_phone(phone):\n",
    "        return phone\n",
    "    else:\n",
    "        return None\n",
    "\n",
    "```\n"
   ]
  },
  {
   "cell_type": "code",
   "execution_count": 6,
   "metadata": {},
   "outputs": [
    {
     "name": "stdout",
     "output_type": "stream",
     "text": [
      "Done.\n"
     ]
    },
    {
     "data": {
      "text/html": [
       "<table>\n",
       "    <tr>\n",
       "        <th>Phone Number</th>\n",
       "        <th>Count</th>\n",
       "    </tr>\n",
       "    <tr>\n",
       "        <td>+1-844-359-2523</td>\n",
       "        <td>4</td>\n",
       "    </tr>\n",
       "    <tr>\n",
       "        <td>+1-212-533-4575</td>\n",
       "        <td>3</td>\n",
       "    </tr>\n",
       "    <tr>\n",
       "        <td>+1-212-219-0666</td>\n",
       "        <td>2</td>\n",
       "    </tr>\n",
       "    <tr>\n",
       "        <td>+1-212-227-3400</td>\n",
       "        <td>2</td>\n",
       "    </tr>\n",
       "    <tr>\n",
       "        <td>+1-212-233-8338</td>\n",
       "        <td>2</td>\n",
       "    </tr>\n",
       "</table>"
      ],
      "text/plain": [
       "[('+1-844-359-2523', 4),\n",
       " ('+1-212-533-4575', 3),\n",
       " ('+1-212-219-0666', 2),\n",
       " ('+1-212-227-3400', 2),\n",
       " ('+1-212-233-8338', 2)]"
      ]
     },
     "execution_count": 6,
     "metadata": {},
     "output_type": "execute_result"
    }
   ],
   "source": [
    "%%sql\n",
    "SELECT value AS 'Phone Number', COUNT(*) AS Count \n",
    "FROM tags\n",
    "WHERE tags.key in ('phone', 'contact:phone', 'phone:emergency',\n",
    "                   'contact:fax', 'Phone', 'phone_1', 'fax')\n",
    "GROUP BY value\n",
    "ORDER BY Count DESC\n",
    "LIMIT 5;"
   ]
  },
  {
   "cell_type": "markdown",
   "metadata": {},
   "source": [
    "None of the phone numbers occurred more than 4 times in the data set and 913 of the phone numbers out of 932 only occurred once."
   ]
  },
  {
   "cell_type": "code",
   "execution_count": 7,
   "metadata": {},
   "outputs": [
    {
     "name": "stdout",
     "output_type": "stream",
     "text": [
      "(sqlite3.OperationalError) table phone_count_again already exists [SQL: \"CREATE VIEW phone_count_again AS\\nSELECT phone_counts.Count, COUNT(*) AS Frequency\\nFROM (SELECT COUNT(*) as Count \\n      FROM tags\\n      WHERE tags.key in ('phone', 'contact:phone', 'phone:emergency',\\n                   'contact:fax', 'Phone', 'phone_1', 'fax')\\n      GROUP BY value\\n      ORDER BY Count DESC) phone_counts\\nGROUP BY Count;\"]\n"
     ]
    }
   ],
   "source": [
    "%%sql\n",
    "CREATE VIEW phone_count_again AS\n",
    "SELECT phone_counts.Count, COUNT(*) AS Frequency\n",
    "FROM (SELECT COUNT(*) AS Count \n",
    "      FROM tags\n",
    "      WHERE tags.key in ('phone', 'contact:phone', 'phone:emergency',\n",
    "                   'contact:fax', 'Phone', 'phone_1', 'fax')\n",
    "      GROUP BY value\n",
    "      ORDER BY Count DESC) phone_counts\n",
    "GROUP BY Count;"
   ]
  },
  {
   "cell_type": "code",
   "execution_count": 10,
   "metadata": {},
   "outputs": [
    {
     "name": "stdout",
     "output_type": "stream",
     "text": [
      "Done.\n"
     ]
    },
    {
     "data": {
      "text/html": [
       "<table>\n",
       "    <tr>\n",
       "        <th>Count</th>\n",
       "        <th>Frequency</th>\n",
       "    </tr>\n",
       "    <tr>\n",
       "        <td>1</td>\n",
       "        <td>913</td>\n",
       "    </tr>\n",
       "    <tr>\n",
       "        <td>2</td>\n",
       "        <td>17</td>\n",
       "    </tr>\n",
       "    <tr>\n",
       "        <td>3</td>\n",
       "        <td>1</td>\n",
       "    </tr>\n",
       "    <tr>\n",
       "        <td>4</td>\n",
       "        <td>1</td>\n",
       "    </tr>\n",
       "</table>"
      ],
      "text/plain": [
       "[(1, 913), (2, 17), (3, 1), (4, 1)]"
      ]
     },
     "execution_count": 10,
     "metadata": {},
     "output_type": "execute_result"
    }
   ],
   "source": [
    "%%sql\n",
    "SELECT *\n",
    "FROM phone_count_again\n",
    "LIMIT 10;"
   ]
  },
  {
   "cell_type": "code",
   "execution_count": 11,
   "metadata": {},
   "outputs": [
    {
     "name": "stdout",
     "output_type": "stream",
     "text": [
      "Done.\n"
     ]
    },
    {
     "data": {
      "text/html": [
       "<table>\n",
       "    <tr>\n",
       "        <th>Count</th>\n",
       "        <th>Percent of Total</th>\n",
       "    </tr>\n",
       "    <tr>\n",
       "        <td>1</td>\n",
       "        <td>97</td>\n",
       "    </tr>\n",
       "    <tr>\n",
       "        <td>2</td>\n",
       "        <td>1</td>\n",
       "    </tr>\n",
       "    <tr>\n",
       "        <td>3</td>\n",
       "        <td>0</td>\n",
       "    </tr>\n",
       "    <tr>\n",
       "        <td>4</td>\n",
       "        <td>0</td>\n",
       "    </tr>\n",
       "</table>"
      ],
      "text/plain": [
       "[(1, 97), (2, 1), (3, 0), (4, 0)]"
      ]
     },
     "execution_count": 11,
     "metadata": {},
     "output_type": "execute_result"
    }
   ],
   "source": [
    "%%sql\n",
    "SELECT pc1.Count, 100*pc1.Frequency/(SELECT SUM(Frequency) FROM phone_count_again) 'Percent of Total'\n",
    "FROM phone_count_again pc1, phone_count_again pc2\n",
    "WHERE pc1.Count = pc2.Count\n",
    "GROUP BY pc1.Count"
   ]
  },
  {
   "cell_type": "markdown",
   "metadata": {},
   "source": []
  },
  {
   "cell_type": "markdown",
   "metadata": {},
   "source": [
    "### Buildings\n",
    "The values for the tag key 'building' were compared to the list of valid values assembled using BeautifulSoup from the OSM Wiki.  The value of 'publib' was a simple typo and was mapped to 'public'.  Some of the values were not valid and could not be mapped to logical alternatives; these were: 'no', 'tower', and 'works'.  The other values needed to have their key changed, as they were incorrectly labeled as buildings, and possibly their value changed as well.  For instance, 'college' and 'courthouse' should have been assigned to the key 'amenity', as should have 'convent', but its value needed to be adjusted to 'monastery'."
   ]
  },
  {
   "cell_type": "code",
   "execution_count": 4,
   "metadata": {},
   "outputs": [
    {
     "name": "stdout",
     "output_type": "stream",
     "text": [
      "Done.\n"
     ]
    },
    {
     "data": {
      "text/html": [
       "<table>\n",
       "    <tr>\n",
       "        <th>Building</th>\n",
       "        <th>Count</th>\n",
       "    </tr>\n",
       "    <tr>\n",
       "        <td>yes</td>\n",
       "        <td>18687</td>\n",
       "    </tr>\n",
       "    <tr>\n",
       "        <td>apartments</td>\n",
       "        <td>421</td>\n",
       "    </tr>\n",
       "    <tr>\n",
       "        <td>commercial</td>\n",
       "        <td>73</td>\n",
       "    </tr>\n",
       "    <tr>\n",
       "        <td>church</td>\n",
       "        <td>67</td>\n",
       "    </tr>\n",
       "    <tr>\n",
       "        <td>school</td>\n",
       "        <td>44</td>\n",
       "    </tr>\n",
       "    <tr>\n",
       "        <td>hotel</td>\n",
       "        <td>31</td>\n",
       "    </tr>\n",
       "    <tr>\n",
       "        <td>office</td>\n",
       "        <td>30</td>\n",
       "    </tr>\n",
       "    <tr>\n",
       "        <td>residential</td>\n",
       "        <td>19</td>\n",
       "    </tr>\n",
       "    <tr>\n",
       "        <td>roof</td>\n",
       "        <td>19</td>\n",
       "    </tr>\n",
       "    <tr>\n",
       "        <td>construction</td>\n",
       "        <td>14</td>\n",
       "    </tr>\n",
       "</table>"
      ],
      "text/plain": [
       "[('yes', 18687),\n",
       " ('apartments', 421),\n",
       " ('commercial', 73),\n",
       " ('church', 67),\n",
       " ('school', 44),\n",
       " ('hotel', 31),\n",
       " ('office', 30),\n",
       " ('residential', 19),\n",
       " ('roof', 19),\n",
       " ('construction', 14)]"
      ]
     },
     "execution_count": 4,
     "metadata": {},
     "output_type": "execute_result"
    }
   ],
   "source": [
    "%%sql\n",
    "SELECT value AS 'Building', COUNT(*) AS Count \n",
    "FROM tags\n",
    "WHERE key='building'\n",
    "GROUP BY value\n",
    "ORDER BY Count DESC\n",
    "LIMIT 10;"
   ]
  },
  {
   "cell_type": "markdown",
   "metadata": {},
   "source": [
    "The vast majority of building tags were only labeled with a 'yes' value."
   ]
  },
  {
   "cell_type": "markdown",
   "metadata": {},
   "source": [
    "### Amenities\n",
    "The values for the tag key 'amenity' were cleaned in a similar fashion to those for 'building'.  Only one value only required a mapping of its value ('training' to 'school').  All others required a mapping of their key and/or value.  Fo instance, 'gym' needed to be changed to 'fitness_centre', but should have been assigned to the key 'leisure'."
   ]
  },
  {
   "cell_type": "code",
   "execution_count": 5,
   "metadata": {},
   "outputs": [
    {
     "name": "stdout",
     "output_type": "stream",
     "text": [
      "Done.\n"
     ]
    },
    {
     "data": {
      "text/html": [
       "<table>\n",
       "    <tr>\n",
       "        <th>Amenity</th>\n",
       "        <th>Count</th>\n",
       "    </tr>\n",
       "    <tr>\n",
       "        <td>bicycle_parking</td>\n",
       "        <td>1961</td>\n",
       "    </tr>\n",
       "    <tr>\n",
       "        <td>restaurant</td>\n",
       "        <td>1011</td>\n",
       "    </tr>\n",
       "    <tr>\n",
       "        <td>cafe</td>\n",
       "        <td>390</td>\n",
       "    </tr>\n",
       "    <tr>\n",
       "        <td>fast_food</td>\n",
       "        <td>277</td>\n",
       "    </tr>\n",
       "    <tr>\n",
       "        <td>bicycle_rental</td>\n",
       "        <td>231</td>\n",
       "    </tr>\n",
       "    <tr>\n",
       "        <td>bar</td>\n",
       "        <td>192</td>\n",
       "    </tr>\n",
       "    <tr>\n",
       "        <td>parking</td>\n",
       "        <td>181</td>\n",
       "    </tr>\n",
       "    <tr>\n",
       "        <td>bank</td>\n",
       "        <td>155</td>\n",
       "    </tr>\n",
       "    <tr>\n",
       "        <td>embassy</td>\n",
       "        <td>147</td>\n",
       "    </tr>\n",
       "    <tr>\n",
       "        <td>bench</td>\n",
       "        <td>140</td>\n",
       "    </tr>\n",
       "</table>"
      ],
      "text/plain": [
       "[('bicycle_parking', 1961),\n",
       " ('restaurant', 1011),\n",
       " ('cafe', 390),\n",
       " ('fast_food', 277),\n",
       " ('bicycle_rental', 231),\n",
       " ('bar', 192),\n",
       " ('parking', 181),\n",
       " ('bank', 155),\n",
       " ('embassy', 147),\n",
       " ('bench', 140)]"
      ]
     },
     "execution_count": 5,
     "metadata": {},
     "output_type": "execute_result"
    }
   ],
   "source": [
    "%%sql\n",
    "SELECT value AS 'Amenity', COUNT(*) AS Count \n",
    "FROM tags\n",
    "WHERE key='amenity'\n",
    "GROUP BY value\n",
    "ORDER BY Count DESC\n",
    "LIMIT 10;"
   ]
  },
  {
   "cell_type": "markdown",
   "metadata": {},
   "source": [
    "### Shop\n",
    "The values for the tag key 'shop' were cleaned in a similar fashion to those for 'building' and 'amenity'.  Four values requied a mapping of their key (e.g. 'car_rental' should have been an 'amenity'), and the rest of those needed to have their value updated (e.g. 'beer' to 'alcohol' and 'mattress' to 'bed'.  One of the values of 'comics', needed to be changed to a value of 'books', but also be given an additional tag with key 'books' and value 'comics'."
   ]
  },
  {
   "cell_type": "markdown",
   "metadata": {},
   "source": [
    "### Cuisine\n",
    "\n",
    "There was a lot of inconsistencies in how values for the key 'cuisine' were represented.  Some values also erroneously included spaces (e.g. 'wine bar', while others were written as though they would have spaces, but with the spaces replaced with underscores ( 'american,_grilled_cheese,_tater_tots').    \n",
    " 'italian coffee, breads, lite meals',\n",
    " \n",
    "There were many values that had many different cuisines separated by commas, slashes, and semicolons.  \n",
    "\n",
    "I compiled a list of the acceptable cuisines \n",
    "\n",
    "\n",
    "There was also one tag with the key 'cuisine_1' which I reassigned to 'cuisine'."
   ]
  },
  {
   "cell_type": "markdown",
   "metadata": {},
   "source": [
    "### Delivery"
   ]
  },
  {
   "cell_type": "code",
   "execution_count": 9,
   "metadata": {
    "scrolled": true
   },
   "outputs": [
    {
     "name": "stdout",
     "output_type": "stream",
     "text": [
      "Done.\n"
     ]
    },
    {
     "data": {
      "text/html": [
       "<table>\n",
       "    <tr>\n",
       "        <th>Delivery</th>\n",
       "        <th>Count</th>\n",
       "    </tr>\n",
       "    <tr>\n",
       "        <td>yes</td>\n",
       "        <td>48</td>\n",
       "    </tr>\n",
       "    <tr>\n",
       "        <td>no</td>\n",
       "        <td>37</td>\n",
       "    </tr>\n",
       "</table>"
      ],
      "text/plain": [
       "[('yes', 48), ('no', 37)]"
      ]
     },
     "execution_count": 9,
     "metadata": {},
     "output_type": "execute_result"
    }
   ],
   "source": [
    "%%sql\n",
    "SELECT value AS 'Delivery', COUNT(*) AS Count \n",
    "FROM tags\n",
    "WHERE key='delivery'\n",
    "GROUP BY value\n",
    "ORDER BY Count DESC"
   ]
  },
  {
   "cell_type": "code",
   "execution_count": null,
   "metadata": {
    "collapsed": true
   },
   "outputs": [],
   "source": []
  },
  {
   "cell_type": "code",
   "execution_count": null,
   "metadata": {
    "collapsed": true
   },
   "outputs": [],
   "source": []
  },
  {
   "cell_type": "code",
   "execution_count": null,
   "metadata": {
    "collapsed": true
   },
   "outputs": [],
   "source": []
  },
  {
   "cell_type": "code",
   "execution_count": null,
   "metadata": {
    "collapsed": true
   },
   "outputs": [],
   "source": []
  },
  {
   "cell_type": "code",
   "execution_count": null,
   "metadata": {
    "collapsed": true
   },
   "outputs": [],
   "source": []
  },
  {
   "cell_type": "code",
   "execution_count": null,
   "metadata": {
    "collapsed": true
   },
   "outputs": [],
   "source": []
  }
 ],
 "metadata": {
  "kernelspec": {
   "display_name": "Python 3",
   "language": "python",
   "name": "python3"
  },
  "language_info": {
   "codemirror_mode": {
    "name": "ipython",
    "version": 3
   },
   "file_extension": ".py",
   "mimetype": "text/x-python",
   "name": "python",
   "nbconvert_exporter": "python",
   "pygments_lexer": "ipython3",
   "version": "3.6.3"
  }
 },
 "nbformat": 4,
 "nbformat_minor": 2
}
