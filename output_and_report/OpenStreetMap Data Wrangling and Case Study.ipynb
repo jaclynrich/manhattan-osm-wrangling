{
 "cells": [
  {
   "cell_type": "markdown",
   "metadata": {},
   "source": [
    "# OpenStreetMap Data Wrangling and Case Study\n",
    "***\n",
    "***"
   ]
  },
  {
   "cell_type": "markdown",
   "metadata": {},
   "source": [
    "### Map Area\n",
    "The data covers all of lower Manhattan (south of about 40th Street) and parts of Brooklyn including portions of DUMBO, Vinegar Hill, Navy Yard, and Williamsburg.  The area is between 40.7562 and 40.6976 latitude and -74.0199 and -73.9661 longitude."
   ]
  },
  {
   "cell_type": "markdown",
   "metadata": {
    "collapsed": true
   },
   "source": [
    "<img src = \"map_area.png\">"
   ]
  },
  {
   "cell_type": "code",
   "execution_count": 1,
   "metadata": {},
   "outputs": [
    {
     "data": {
      "text/plain": [
       "'Connected: None@osm.db'"
      ]
     },
     "execution_count": 1,
     "metadata": {},
     "output_type": "execute_result"
    }
   ],
   "source": [
    "%load_ext sql\n",
    "%sql sqlite:///osm.db"
   ]
  },
  {
   "cell_type": "markdown",
   "metadata": {},
   "source": [
    "There are three types of entities in the map: nodes, ways, and relations.  In addition, nodes have tags, ways have tags and nodes, and relations have members and tags.  Each of these are represented in a separate table.  The vast majority of the interesting data lies within the tags."
   ]
  },
  {
   "cell_type": "code",
   "execution_count": 12,
   "metadata": {},
   "outputs": [
    {
     "name": "stdout",
     "output_type": "stream",
     "text": [
      "Done.\n"
     ]
    },
    {
     "data": {
      "text/html": [
       "<table>\n",
       "    <tr>\n",
       "        <th>name</th>\n",
       "    </tr>\n",
       "    <tr>\n",
       "        <td>Node</td>\n",
       "    </tr>\n",
       "    <tr>\n",
       "        <td>NodeTag</td>\n",
       "    </tr>\n",
       "    <tr>\n",
       "        <td>Relation</td>\n",
       "    </tr>\n",
       "    <tr>\n",
       "        <td>RelationMember</td>\n",
       "    </tr>\n",
       "    <tr>\n",
       "        <td>RelationTag</td>\n",
       "    </tr>\n",
       "    <tr>\n",
       "        <td>Way</td>\n",
       "    </tr>\n",
       "    <tr>\n",
       "        <td>WayNode</td>\n",
       "    </tr>\n",
       "    <tr>\n",
       "        <td>WayTag</td>\n",
       "    </tr>\n",
       "</table>"
      ],
      "text/plain": [
       "[('Node',),\n",
       " ('NodeTag',),\n",
       " ('Relation',),\n",
       " ('RelationMember',),\n",
       " ('RelationTag',),\n",
       " ('Way',),\n",
       " ('WayNode',),\n",
       " ('WayTag',)]"
      ]
     },
     "execution_count": 12,
     "metadata": {},
     "output_type": "execute_result"
    }
   ],
   "source": [
    "%%sql\n",
    "SELECT name\n",
    "FROM sqlite_master\n",
    "WHERE type='table'\n",
    "ORDER BY name"
   ]
  },
  {
   "cell_type": "markdown",
   "metadata": {},
   "source": [
    "## Problems Encountered in the Map Data\n",
    "\n",
    "* Inconsistent zip codes\n"
   ]
  },
  {
   "cell_type": "markdown",
   "metadata": {},
   "source": [
    "### Zip Codes\n",
    "Postcodes were represented inconsistently in the data for the addr:postcode.  Some included a prefix of NY or were in the ZIP+4 format.  These zip codes were fixed programmatically using regular expressions.\n",
    "\n",
    "I also manually assembled a list of valid zip codes for the areas included in the map.  Some postcodes in the data set were not present in the list.  For instance, 10023, which represents the Lincoln Square area of Manhattan, was erroneously assigned to an address near City Hall.  These zip codes were manually corrected with a dictionary mapping.  Typos in postcodes, such as ‘100014’ which has six digits, were also corrected manually.\n",
    "\n",
    "Example errors in zip codes:\n",
    "* 'NY 10007'\n",
    "* '10002-1013'\n",
    "* '100014'\n",
    "* '10023'"
   ]
  },
  {
   "cell_type": "code",
   "execution_count": 13,
   "metadata": {},
   "outputs": [
    {
     "name": "stdout",
     "output_type": "stream",
     "text": [
      "Done.\n"
     ]
    },
    {
     "data": {
      "text/html": [
       "<table>\n",
       "    <tr>\n",
       "        <th>Zip Code</th>\n",
       "        <th>count</th>\n",
       "    </tr>\n",
       "    <tr>\n",
       "        <td>10011</td>\n",
       "        <td>2819</td>\n",
       "    </tr>\n",
       "    <tr>\n",
       "        <td>10003</td>\n",
       "        <td>2557</td>\n",
       "    </tr>\n",
       "    <tr>\n",
       "        <td>10014</td>\n",
       "        <td>2549</td>\n",
       "    </tr>\n",
       "    <tr>\n",
       "        <td>10002</td>\n",
       "        <td>2484</td>\n",
       "    </tr>\n",
       "    <tr>\n",
       "        <td>10013</td>\n",
       "        <td>2172</td>\n",
       "    </tr>\n",
       "    <tr>\n",
       "        <td>10016</td>\n",
       "        <td>1923</td>\n",
       "    </tr>\n",
       "    <tr>\n",
       "        <td>10009</td>\n",
       "        <td>1673</td>\n",
       "    </tr>\n",
       "    <tr>\n",
       "        <td>10001</td>\n",
       "        <td>1665</td>\n",
       "    </tr>\n",
       "    <tr>\n",
       "        <td>10012</td>\n",
       "        <td>1568</td>\n",
       "    </tr>\n",
       "    <tr>\n",
       "        <td>10010</td>\n",
       "        <td>970</td>\n",
       "    </tr>\n",
       "</table>"
      ],
      "text/plain": [
       "[('10011', 2819),\n",
       " ('10003', 2557),\n",
       " ('10014', 2549),\n",
       " ('10002', 2484),\n",
       " ('10013', 2172),\n",
       " ('10016', 1923),\n",
       " ('10009', 1673),\n",
       " ('10001', 1665),\n",
       " ('10012', 1568),\n",
       " ('10010', 970)]"
      ]
     },
     "execution_count": 13,
     "metadata": {},
     "output_type": "execute_result"
    }
   ],
   "source": [
    "%%sql\n",
    "SELECT tags.value 'Zip Code', COUNT(*) as count \n",
    "FROM (SELECT * FROM NodeTag \n",
    "      UNION ALL\n",
    "      SELECT * FROM WayTag) tags\n",
    "WHERE tags.key='addr:postcode'\n",
    "GROUP BY tags.value\n",
    "ORDER BY count DESC\n",
    "LIMIT 10;"
   ]
  },
  {
   "cell_type": "markdown",
   "metadata": {},
   "source": [
    "### Cities"
   ]
  },
  {
   "cell_type": "markdown",
   "metadata": {},
   "source": [
    "There was inconsistency with how cities were represented.  The only two acceptable cities are New York and Brooklyn.  The addr:city tags erroneously included the state, referred to the neighborhood as opposed to the city, and had capitalization inconsistencies.  All those referring to New York, Manhattan, and its neighborhoods were mapped to New York; there were no problems with those marked 'Brooklyn.'\n",
    "\n",
    "Example errors in city:\n",
    "* 'Manhattan NYC'\n",
    "* 'NEW YORK CITY'\n",
    "* 'New York City'\n",
    "* 'New York, NY'\n",
    "* 'Tribeca'\n",
    "* 'York City'\n",
    "* 'new york'"
   ]
  },
  {
   "cell_type": "code",
   "execution_count": 14,
   "metadata": {},
   "outputs": [
    {
     "name": "stdout",
     "output_type": "stream",
     "text": [
      "Done.\n"
     ]
    },
    {
     "data": {
      "text/html": [
       "<table>\n",
       "    <tr>\n",
       "        <th>City</th>\n",
       "        <th>count</th>\n",
       "    </tr>\n",
       "    <tr>\n",
       "        <td>New York</td>\n",
       "        <td>3301</td>\n",
       "    </tr>\n",
       "    <tr>\n",
       "        <td>Brooklyn</td>\n",
       "        <td>77</td>\n",
       "    </tr>\n",
       "</table>"
      ],
      "text/plain": [
       "[('New York', 3301), ('Brooklyn', 77)]"
      ]
     },
     "execution_count": 14,
     "metadata": {},
     "output_type": "execute_result"
    }
   ],
   "source": [
    "%%sql\n",
    "SELECT tags.value 'City', COUNT(*) as count \n",
    "FROM (SELECT * FROM NodeTag \n",
    "      UNION ALL\n",
    "      SELECT * FROM WayTag) tags\n",
    "WHERE tags.key='addr:city'\n",
    "GROUP BY tags.value\n",
    "ORDER BY count DESC\n",
    "LIMIT 10;"
   ]
  },
  {
   "cell_type": "markdown",
   "metadata": {},
   "source": [
    "### Countries\n",
    "453 of the values for the key addr:country were 'US', with only five being 'USA'.  These were corrected with a simple mapping."
   ]
  },
  {
   "cell_type": "markdown",
   "metadata": {},
   "source": [
    "###  States\n",
    "Almost all of the values for addr:state were 'NY' with only the errors being those listed below.\n",
    "\n",
    "Errors in state:\n",
    "* '10009'\n",
    "* 'New York'\n",
    "* 'New York State'\n",
    "* 'ny'\n",
    "\n",
    "Since 'NY' is the only valid value, a function is not required and all values for the key 'addr:state' were assigned to 'NY'."
   ]
  }
 ],
 "metadata": {
  "kernelspec": {
   "display_name": "Python 3",
   "language": "python",
   "name": "python3"
  },
  "language_info": {
   "codemirror_mode": {
    "name": "ipython",
    "version": 3
   },
   "file_extension": ".py",
   "mimetype": "text/x-python",
   "name": "python",
   "nbconvert_exporter": "python",
   "pygments_lexer": "ipython3",
   "version": "3.6.3"
  }
 },
 "nbformat": 4,
 "nbformat_minor": 2
}
